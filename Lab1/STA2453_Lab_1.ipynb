{
  "nbformat": 4,
  "nbformat_minor": 0,
  "metadata": {
    "colab": {
      "provenance": [],
      "collapsed_sections": []
    },
    "kernelspec": {
      "name": "python3",
      "display_name": "Python 3"
    },
    "language_info": {
      "name": "python"
    }
  },
  "cells": [
    {
      "cell_type": "code",
      "execution_count": 125,
      "metadata": {
        "id": "zL_aYQRr_zZH"
      },
      "outputs": [],
      "source": [
        "# Let's code it up, preamble first. \n",
        "\n",
        "import numpy as np # basic vector/matrix math\n",
        "import matplotlib.pyplot as plt # plotting and illustrations \n",
        "import seaborn as sns # advanced plotting and illustrations. \n",
        "import pandas as pd # data loading, saving, and general data manipulation. \n",
        "import scipy.stats as stats # inter alia, statistical distributions, functions and relevant objects.\n",
        "import scipy.optimize as optimize \n",
        "import torch # ML/AI model's and general optimization "
      ]
    },
    {
      "cell_type": "markdown",
      "source": [
        "# STA 2453 Lab 1 Submission\n",
        "\n",
        "This lab notebook must be completed in the appropriate time during class and invigilated by the instructor. There are _ questions, you must add both this notebook, and another generated .py file to the PR. \n",
        "\n",
        "Once the PR is in place, please tag both me and the TA in it. So in the end you will have two files. \n",
        "\n",
        "- `STA2453-Lab-1.ipynb`\n",
        "- `STA2453-Lab-1.py`\n",
        "\n",
        "Both of these are needed for a good submission. \n",
        "\n"
      ],
      "metadata": {
        "id": "OggTB2f0_2tj"
      }
    },
    {
      "cell_type": "markdown",
      "source": [
        "# Case Study: Does God Hate Rich People? \n",
        "\n",
        "\n",
        "## Introduction \n",
        "\n",
        "Extreme weather events in the U.S. are regularly tracked by the National Oceanic and Atomspheric Administration (NOAA).\n",
        "\n",
        "The NCDC Storm Events database is provided by the National Weather Service (NWS) and contain statistics on personal injuries and damage estimates. (ref. gov.noaa.ncdc:C00510). \n",
        "\n",
        "## The question is, are high-income or low-income households more susceptible to extreme weather events? \n",
        "\n",
        "The US Household Income dataset provided by Golden Oak Research Group contains 32,000 records on US Household Income Statistics & Geo Locations. The dataset originally developed for real estate and business investment research. Income is a vital element when determining both quality and socioeconomic features of a given geographic location. (ref. Golden Oak Research Group, LLC. “U.S. Income Database Kaggle”. Publication: 5, August 2017.)\n",
        "\n",
        "\n",
        "The two files listed here: \n",
        "\n",
        "## Storm Weather Event Data\n",
        "`https://raw.githubusercontent.com/nikpocuca/sta2453-2022.github.io/master/StormEvents_locations-ftp_v1.0_d2014_c20180718.csv`\n",
        "\n",
        "\n",
        "## Golden Oak Research Group Data\n",
        "`https://raw.githubusercontent.com/nikpocuca/sta2453-2022.github.io/master/kaggle_income_clean.csv`"
      ],
      "metadata": {
        "id": "4nupNlXXYw4X"
      }
    },
    {
      "cell_type": "code",
      "source": [
        "# Load data\n",
        "storm_events_data = pd.read_csv('https://raw.githubusercontent.com/nikpocuca/sta2453-2022.github.io/master/StormEvents_locations-ftp_v1.0_d2014_c20180718.csv')\n",
        "income_data = pd.read_csv('https://raw.githubusercontent.com/nikpocuca/sta2453-2022.github.io/master/kaggle_income_clean.csv')"
      ],
      "metadata": {
        "id": "TLBgzrAKZe_j"
      },
      "execution_count": 126,
      "outputs": []
    },
    {
      "cell_type": "code",
      "source": [
        "# glimpse data\n",
        "storm_events_data.head()"
      ],
      "metadata": {
        "colab": {
          "base_uri": "https://localhost:8080/",
          "height": 206
        },
        "id": "bsC3LfM01qu0",
        "outputId": "80839d26-0d85-4bc4-ec20-62bc38cca2e4"
      },
      "execution_count": 127,
      "outputs": [
        {
          "output_type": "execute_result",
          "data": {
            "text/plain": [
              "   YEARMONTH  EPISODE_ID  EVENT_ID  LOCATION_INDEX  RANGE AZIMUTH  \\\n",
              "0     201405       84460    509925               1    2.0       N   \n",
              "1     201405       84460    509932               1    2.0      NW   \n",
              "2     201405       84460    509935               1   29.0     NNE   \n",
              "3     201405       84460    509938               1    0.0       N   \n",
              "4     201405       84460    509939               1    0.0       N   \n",
              "\n",
              "      LOCATION  LATITUDE  LONGITUDE     LAT2      LON2  \n",
              "0  BAKERSFIELD   30.9090  -102.2800  3054540  10216800  \n",
              "1       STILES   31.4205  -101.6040  3125230  10136240  \n",
              "2    SANDERSON   30.5378  -102.2139  3032268  10212834  \n",
              "3        IRAAN   30.9200  -101.8800  3055200  10152800  \n",
              "4        IRAAN   30.9200  -101.8800  3055200  10152800  "
            ],
            "text/html": [
              "\n",
              "  <div id=\"df-f5e35bc2-d838-457f-ad95-ffa5c3cb42fc\">\n",
              "    <div class=\"colab-df-container\">\n",
              "      <div>\n",
              "<style scoped>\n",
              "    .dataframe tbody tr th:only-of-type {\n",
              "        vertical-align: middle;\n",
              "    }\n",
              "\n",
              "    .dataframe tbody tr th {\n",
              "        vertical-align: top;\n",
              "    }\n",
              "\n",
              "    .dataframe thead th {\n",
              "        text-align: right;\n",
              "    }\n",
              "</style>\n",
              "<table border=\"1\" class=\"dataframe\">\n",
              "  <thead>\n",
              "    <tr style=\"text-align: right;\">\n",
              "      <th></th>\n",
              "      <th>YEARMONTH</th>\n",
              "      <th>EPISODE_ID</th>\n",
              "      <th>EVENT_ID</th>\n",
              "      <th>LOCATION_INDEX</th>\n",
              "      <th>RANGE</th>\n",
              "      <th>AZIMUTH</th>\n",
              "      <th>LOCATION</th>\n",
              "      <th>LATITUDE</th>\n",
              "      <th>LONGITUDE</th>\n",
              "      <th>LAT2</th>\n",
              "      <th>LON2</th>\n",
              "    </tr>\n",
              "  </thead>\n",
              "  <tbody>\n",
              "    <tr>\n",
              "      <th>0</th>\n",
              "      <td>201405</td>\n",
              "      <td>84460</td>\n",
              "      <td>509925</td>\n",
              "      <td>1</td>\n",
              "      <td>2.0</td>\n",
              "      <td>N</td>\n",
              "      <td>BAKERSFIELD</td>\n",
              "      <td>30.9090</td>\n",
              "      <td>-102.2800</td>\n",
              "      <td>3054540</td>\n",
              "      <td>10216800</td>\n",
              "    </tr>\n",
              "    <tr>\n",
              "      <th>1</th>\n",
              "      <td>201405</td>\n",
              "      <td>84460</td>\n",
              "      <td>509932</td>\n",
              "      <td>1</td>\n",
              "      <td>2.0</td>\n",
              "      <td>NW</td>\n",
              "      <td>STILES</td>\n",
              "      <td>31.4205</td>\n",
              "      <td>-101.6040</td>\n",
              "      <td>3125230</td>\n",
              "      <td>10136240</td>\n",
              "    </tr>\n",
              "    <tr>\n",
              "      <th>2</th>\n",
              "      <td>201405</td>\n",
              "      <td>84460</td>\n",
              "      <td>509935</td>\n",
              "      <td>1</td>\n",
              "      <td>29.0</td>\n",
              "      <td>NNE</td>\n",
              "      <td>SANDERSON</td>\n",
              "      <td>30.5378</td>\n",
              "      <td>-102.2139</td>\n",
              "      <td>3032268</td>\n",
              "      <td>10212834</td>\n",
              "    </tr>\n",
              "    <tr>\n",
              "      <th>3</th>\n",
              "      <td>201405</td>\n",
              "      <td>84460</td>\n",
              "      <td>509938</td>\n",
              "      <td>1</td>\n",
              "      <td>0.0</td>\n",
              "      <td>N</td>\n",
              "      <td>IRAAN</td>\n",
              "      <td>30.9200</td>\n",
              "      <td>-101.8800</td>\n",
              "      <td>3055200</td>\n",
              "      <td>10152800</td>\n",
              "    </tr>\n",
              "    <tr>\n",
              "      <th>4</th>\n",
              "      <td>201405</td>\n",
              "      <td>84460</td>\n",
              "      <td>509939</td>\n",
              "      <td>1</td>\n",
              "      <td>0.0</td>\n",
              "      <td>N</td>\n",
              "      <td>IRAAN</td>\n",
              "      <td>30.9200</td>\n",
              "      <td>-101.8800</td>\n",
              "      <td>3055200</td>\n",
              "      <td>10152800</td>\n",
              "    </tr>\n",
              "  </tbody>\n",
              "</table>\n",
              "</div>\n",
              "      <button class=\"colab-df-convert\" onclick=\"convertToInteractive('df-f5e35bc2-d838-457f-ad95-ffa5c3cb42fc')\"\n",
              "              title=\"Convert this dataframe to an interactive table.\"\n",
              "              style=\"display:none;\">\n",
              "        \n",
              "  <svg xmlns=\"http://www.w3.org/2000/svg\" height=\"24px\"viewBox=\"0 0 24 24\"\n",
              "       width=\"24px\">\n",
              "    <path d=\"M0 0h24v24H0V0z\" fill=\"none\"/>\n",
              "    <path d=\"M18.56 5.44l.94 2.06.94-2.06 2.06-.94-2.06-.94-.94-2.06-.94 2.06-2.06.94zm-11 1L8.5 8.5l.94-2.06 2.06-.94-2.06-.94L8.5 2.5l-.94 2.06-2.06.94zm10 10l.94 2.06.94-2.06 2.06-.94-2.06-.94-.94-2.06-.94 2.06-2.06.94z\"/><path d=\"M17.41 7.96l-1.37-1.37c-.4-.4-.92-.59-1.43-.59-.52 0-1.04.2-1.43.59L10.3 9.45l-7.72 7.72c-.78.78-.78 2.05 0 2.83L4 21.41c.39.39.9.59 1.41.59.51 0 1.02-.2 1.41-.59l7.78-7.78 2.81-2.81c.8-.78.8-2.07 0-2.86zM5.41 20L4 18.59l7.72-7.72 1.47 1.35L5.41 20z\"/>\n",
              "  </svg>\n",
              "      </button>\n",
              "      \n",
              "  <style>\n",
              "    .colab-df-container {\n",
              "      display:flex;\n",
              "      flex-wrap:wrap;\n",
              "      gap: 12px;\n",
              "    }\n",
              "\n",
              "    .colab-df-convert {\n",
              "      background-color: #E8F0FE;\n",
              "      border: none;\n",
              "      border-radius: 50%;\n",
              "      cursor: pointer;\n",
              "      display: none;\n",
              "      fill: #1967D2;\n",
              "      height: 32px;\n",
              "      padding: 0 0 0 0;\n",
              "      width: 32px;\n",
              "    }\n",
              "\n",
              "    .colab-df-convert:hover {\n",
              "      background-color: #E2EBFA;\n",
              "      box-shadow: 0px 1px 2px rgba(60, 64, 67, 0.3), 0px 1px 3px 1px rgba(60, 64, 67, 0.15);\n",
              "      fill: #174EA6;\n",
              "    }\n",
              "\n",
              "    [theme=dark] .colab-df-convert {\n",
              "      background-color: #3B4455;\n",
              "      fill: #D2E3FC;\n",
              "    }\n",
              "\n",
              "    [theme=dark] .colab-df-convert:hover {\n",
              "      background-color: #434B5C;\n",
              "      box-shadow: 0px 1px 3px 1px rgba(0, 0, 0, 0.15);\n",
              "      filter: drop-shadow(0px 1px 2px rgba(0, 0, 0, 0.3));\n",
              "      fill: #FFFFFF;\n",
              "    }\n",
              "  </style>\n",
              "\n",
              "      <script>\n",
              "        const buttonEl =\n",
              "          document.querySelector('#df-f5e35bc2-d838-457f-ad95-ffa5c3cb42fc button.colab-df-convert');\n",
              "        buttonEl.style.display =\n",
              "          google.colab.kernel.accessAllowed ? 'block' : 'none';\n",
              "\n",
              "        async function convertToInteractive(key) {\n",
              "          const element = document.querySelector('#df-f5e35bc2-d838-457f-ad95-ffa5c3cb42fc');\n",
              "          const dataTable =\n",
              "            await google.colab.kernel.invokeFunction('convertToInteractive',\n",
              "                                                     [key], {});\n",
              "          if (!dataTable) return;\n",
              "\n",
              "          const docLinkHtml = 'Like what you see? Visit the ' +\n",
              "            '<a target=\"_blank\" href=https://colab.research.google.com/notebooks/data_table.ipynb>data table notebook</a>'\n",
              "            + ' to learn more about interactive tables.';\n",
              "          element.innerHTML = '';\n",
              "          dataTable['output_type'] = 'display_data';\n",
              "          await google.colab.output.renderOutput(dataTable, element);\n",
              "          const docLink = document.createElement('div');\n",
              "          docLink.innerHTML = docLinkHtml;\n",
              "          element.appendChild(docLink);\n",
              "        }\n",
              "      </script>\n",
              "    </div>\n",
              "  </div>\n",
              "  "
            ]
          },
          "metadata": {},
          "execution_count": 127
        }
      ]
    },
    {
      "cell_type": "code",
      "source": [
        "income_data.head()"
      ],
      "metadata": {
        "colab": {
          "base_uri": "https://localhost:8080/",
          "height": 235
        },
        "id": "eTKS4I4s15PX",
        "outputId": "d5633007-8cb2-476d-f6ff-66186d2de700"
      },
      "execution_count": 128,
      "outputs": [
        {
          "output_type": "execute_result",
          "data": {
            "text/plain": [
              "   Unnamed: 0  Unnamed: 0.1       id  State_Code State_Name State_ab  \\\n",
              "0           0             1  1011000           1    Alabama       AL   \n",
              "1           1             2  1011010           1    Alabama       AL   \n",
              "2           2             3  1011020           1    Alabama       AL   \n",
              "3           3             4  1011030           1    Alabama       AL   \n",
              "4           4             5  1011040           1    Alabama       AL   \n",
              "\n",
              "           County            City            Place  Type  ... Zip_Code  \\\n",
              "0   Mobile County       Chickasaw   Chickasaw city  City  ...    36611   \n",
              "1  Barbour County      Louisville        Clio city  City  ...    36048   \n",
              "2   Shelby County      Columbiana  Columbiana city  City  ...    35051   \n",
              "3   Mobile County         Satsuma      Creola city  City  ...    36572   \n",
              "4   Mobile County  Dauphin Island   Dauphin Island  Town  ...    36528   \n",
              "\n",
              "   Area_Code     ALand       AWater        Lat        Lon   Mean  Median  \\\n",
              "0        251  10894952     909156.0  30.771450 -88.079697  38773   30506   \n",
              "1        334  26070325      23254.0  31.708516 -85.611039  37725   19528   \n",
              "2        205  44835274     261034.0  33.191452 -86.615618  54606   31930   \n",
              "3        251  36878729    2374530.0  30.874343 -88.009442  63919   52814   \n",
              "4        251  16204185  413605152.0  30.250913 -88.171268  77948   67225   \n",
              "\n",
              "     Stdev        sum_w  \n",
              "0  33101.0  1638.260513  \n",
              "1  43789.0   258.017685  \n",
              "2  57348.0   926.031000  \n",
              "3  47707.0   378.114619  \n",
              "4  54270.0   282.320328  \n",
              "\n",
              "[5 rows x 21 columns]"
            ],
            "text/html": [
              "\n",
              "  <div id=\"df-0c3cf280-5886-4036-910b-d125203cbf6e\">\n",
              "    <div class=\"colab-df-container\">\n",
              "      <div>\n",
              "<style scoped>\n",
              "    .dataframe tbody tr th:only-of-type {\n",
              "        vertical-align: middle;\n",
              "    }\n",
              "\n",
              "    .dataframe tbody tr th {\n",
              "        vertical-align: top;\n",
              "    }\n",
              "\n",
              "    .dataframe thead th {\n",
              "        text-align: right;\n",
              "    }\n",
              "</style>\n",
              "<table border=\"1\" class=\"dataframe\">\n",
              "  <thead>\n",
              "    <tr style=\"text-align: right;\">\n",
              "      <th></th>\n",
              "      <th>Unnamed: 0</th>\n",
              "      <th>Unnamed: 0.1</th>\n",
              "      <th>id</th>\n",
              "      <th>State_Code</th>\n",
              "      <th>State_Name</th>\n",
              "      <th>State_ab</th>\n",
              "      <th>County</th>\n",
              "      <th>City</th>\n",
              "      <th>Place</th>\n",
              "      <th>Type</th>\n",
              "      <th>...</th>\n",
              "      <th>Zip_Code</th>\n",
              "      <th>Area_Code</th>\n",
              "      <th>ALand</th>\n",
              "      <th>AWater</th>\n",
              "      <th>Lat</th>\n",
              "      <th>Lon</th>\n",
              "      <th>Mean</th>\n",
              "      <th>Median</th>\n",
              "      <th>Stdev</th>\n",
              "      <th>sum_w</th>\n",
              "    </tr>\n",
              "  </thead>\n",
              "  <tbody>\n",
              "    <tr>\n",
              "      <th>0</th>\n",
              "      <td>0</td>\n",
              "      <td>1</td>\n",
              "      <td>1011000</td>\n",
              "      <td>1</td>\n",
              "      <td>Alabama</td>\n",
              "      <td>AL</td>\n",
              "      <td>Mobile County</td>\n",
              "      <td>Chickasaw</td>\n",
              "      <td>Chickasaw city</td>\n",
              "      <td>City</td>\n",
              "      <td>...</td>\n",
              "      <td>36611</td>\n",
              "      <td>251</td>\n",
              "      <td>10894952</td>\n",
              "      <td>909156.0</td>\n",
              "      <td>30.771450</td>\n",
              "      <td>-88.079697</td>\n",
              "      <td>38773</td>\n",
              "      <td>30506</td>\n",
              "      <td>33101.0</td>\n",
              "      <td>1638.260513</td>\n",
              "    </tr>\n",
              "    <tr>\n",
              "      <th>1</th>\n",
              "      <td>1</td>\n",
              "      <td>2</td>\n",
              "      <td>1011010</td>\n",
              "      <td>1</td>\n",
              "      <td>Alabama</td>\n",
              "      <td>AL</td>\n",
              "      <td>Barbour County</td>\n",
              "      <td>Louisville</td>\n",
              "      <td>Clio city</td>\n",
              "      <td>City</td>\n",
              "      <td>...</td>\n",
              "      <td>36048</td>\n",
              "      <td>334</td>\n",
              "      <td>26070325</td>\n",
              "      <td>23254.0</td>\n",
              "      <td>31.708516</td>\n",
              "      <td>-85.611039</td>\n",
              "      <td>37725</td>\n",
              "      <td>19528</td>\n",
              "      <td>43789.0</td>\n",
              "      <td>258.017685</td>\n",
              "    </tr>\n",
              "    <tr>\n",
              "      <th>2</th>\n",
              "      <td>2</td>\n",
              "      <td>3</td>\n",
              "      <td>1011020</td>\n",
              "      <td>1</td>\n",
              "      <td>Alabama</td>\n",
              "      <td>AL</td>\n",
              "      <td>Shelby County</td>\n",
              "      <td>Columbiana</td>\n",
              "      <td>Columbiana city</td>\n",
              "      <td>City</td>\n",
              "      <td>...</td>\n",
              "      <td>35051</td>\n",
              "      <td>205</td>\n",
              "      <td>44835274</td>\n",
              "      <td>261034.0</td>\n",
              "      <td>33.191452</td>\n",
              "      <td>-86.615618</td>\n",
              "      <td>54606</td>\n",
              "      <td>31930</td>\n",
              "      <td>57348.0</td>\n",
              "      <td>926.031000</td>\n",
              "    </tr>\n",
              "    <tr>\n",
              "      <th>3</th>\n",
              "      <td>3</td>\n",
              "      <td>4</td>\n",
              "      <td>1011030</td>\n",
              "      <td>1</td>\n",
              "      <td>Alabama</td>\n",
              "      <td>AL</td>\n",
              "      <td>Mobile County</td>\n",
              "      <td>Satsuma</td>\n",
              "      <td>Creola city</td>\n",
              "      <td>City</td>\n",
              "      <td>...</td>\n",
              "      <td>36572</td>\n",
              "      <td>251</td>\n",
              "      <td>36878729</td>\n",
              "      <td>2374530.0</td>\n",
              "      <td>30.874343</td>\n",
              "      <td>-88.009442</td>\n",
              "      <td>63919</td>\n",
              "      <td>52814</td>\n",
              "      <td>47707.0</td>\n",
              "      <td>378.114619</td>\n",
              "    </tr>\n",
              "    <tr>\n",
              "      <th>4</th>\n",
              "      <td>4</td>\n",
              "      <td>5</td>\n",
              "      <td>1011040</td>\n",
              "      <td>1</td>\n",
              "      <td>Alabama</td>\n",
              "      <td>AL</td>\n",
              "      <td>Mobile County</td>\n",
              "      <td>Dauphin Island</td>\n",
              "      <td>Dauphin Island</td>\n",
              "      <td>Town</td>\n",
              "      <td>...</td>\n",
              "      <td>36528</td>\n",
              "      <td>251</td>\n",
              "      <td>16204185</td>\n",
              "      <td>413605152.0</td>\n",
              "      <td>30.250913</td>\n",
              "      <td>-88.171268</td>\n",
              "      <td>77948</td>\n",
              "      <td>67225</td>\n",
              "      <td>54270.0</td>\n",
              "      <td>282.320328</td>\n",
              "    </tr>\n",
              "  </tbody>\n",
              "</table>\n",
              "<p>5 rows × 21 columns</p>\n",
              "</div>\n",
              "      <button class=\"colab-df-convert\" onclick=\"convertToInteractive('df-0c3cf280-5886-4036-910b-d125203cbf6e')\"\n",
              "              title=\"Convert this dataframe to an interactive table.\"\n",
              "              style=\"display:none;\">\n",
              "        \n",
              "  <svg xmlns=\"http://www.w3.org/2000/svg\" height=\"24px\"viewBox=\"0 0 24 24\"\n",
              "       width=\"24px\">\n",
              "    <path d=\"M0 0h24v24H0V0z\" fill=\"none\"/>\n",
              "    <path d=\"M18.56 5.44l.94 2.06.94-2.06 2.06-.94-2.06-.94-.94-2.06-.94 2.06-2.06.94zm-11 1L8.5 8.5l.94-2.06 2.06-.94-2.06-.94L8.5 2.5l-.94 2.06-2.06.94zm10 10l.94 2.06.94-2.06 2.06-.94-2.06-.94-.94-2.06-.94 2.06-2.06.94z\"/><path d=\"M17.41 7.96l-1.37-1.37c-.4-.4-.92-.59-1.43-.59-.52 0-1.04.2-1.43.59L10.3 9.45l-7.72 7.72c-.78.78-.78 2.05 0 2.83L4 21.41c.39.39.9.59 1.41.59.51 0 1.02-.2 1.41-.59l7.78-7.78 2.81-2.81c.8-.78.8-2.07 0-2.86zM5.41 20L4 18.59l7.72-7.72 1.47 1.35L5.41 20z\"/>\n",
              "  </svg>\n",
              "      </button>\n",
              "      \n",
              "  <style>\n",
              "    .colab-df-container {\n",
              "      display:flex;\n",
              "      flex-wrap:wrap;\n",
              "      gap: 12px;\n",
              "    }\n",
              "\n",
              "    .colab-df-convert {\n",
              "      background-color: #E8F0FE;\n",
              "      border: none;\n",
              "      border-radius: 50%;\n",
              "      cursor: pointer;\n",
              "      display: none;\n",
              "      fill: #1967D2;\n",
              "      height: 32px;\n",
              "      padding: 0 0 0 0;\n",
              "      width: 32px;\n",
              "    }\n",
              "\n",
              "    .colab-df-convert:hover {\n",
              "      background-color: #E2EBFA;\n",
              "      box-shadow: 0px 1px 2px rgba(60, 64, 67, 0.3), 0px 1px 3px 1px rgba(60, 64, 67, 0.15);\n",
              "      fill: #174EA6;\n",
              "    }\n",
              "\n",
              "    [theme=dark] .colab-df-convert {\n",
              "      background-color: #3B4455;\n",
              "      fill: #D2E3FC;\n",
              "    }\n",
              "\n",
              "    [theme=dark] .colab-df-convert:hover {\n",
              "      background-color: #434B5C;\n",
              "      box-shadow: 0px 1px 3px 1px rgba(0, 0, 0, 0.15);\n",
              "      filter: drop-shadow(0px 1px 2px rgba(0, 0, 0, 0.3));\n",
              "      fill: #FFFFFF;\n",
              "    }\n",
              "  </style>\n",
              "\n",
              "      <script>\n",
              "        const buttonEl =\n",
              "          document.querySelector('#df-0c3cf280-5886-4036-910b-d125203cbf6e button.colab-df-convert');\n",
              "        buttonEl.style.display =\n",
              "          google.colab.kernel.accessAllowed ? 'block' : 'none';\n",
              "\n",
              "        async function convertToInteractive(key) {\n",
              "          const element = document.querySelector('#df-0c3cf280-5886-4036-910b-d125203cbf6e');\n",
              "          const dataTable =\n",
              "            await google.colab.kernel.invokeFunction('convertToInteractive',\n",
              "                                                     [key], {});\n",
              "          if (!dataTable) return;\n",
              "\n",
              "          const docLinkHtml = 'Like what you see? Visit the ' +\n",
              "            '<a target=\"_blank\" href=https://colab.research.google.com/notebooks/data_table.ipynb>data table notebook</a>'\n",
              "            + ' to learn more about interactive tables.';\n",
              "          element.innerHTML = '';\n",
              "          dataTable['output_type'] = 'display_data';\n",
              "          await google.colab.output.renderOutput(dataTable, element);\n",
              "          const docLink = document.createElement('div');\n",
              "          docLink.innerHTML = docLinkHtml;\n",
              "          element.appendChild(docLink);\n",
              "        }\n",
              "      </script>\n",
              "    </div>\n",
              "  </div>\n",
              "  "
            ]
          },
          "metadata": {},
          "execution_count": 128
        }
      ]
    },
    {
      "cell_type": "markdown",
      "source": [
        "\n",
        "## Cleaning Data \n",
        "\n",
        "We want to take only the continental US data, so that involves the following: \n",
        "\n",
        "- `20 < Lat < 50`\n",
        "- `Lon > -140`\n",
        "\n",
        "\n",
        "Furthermore we want to create two dataframes, one for poor people, one for rich people. According to the US Census Bureau, a person who's average income is below \\$25k is considered below the poverty line, while a person exceeding \\$100k is considered wealthy. \n",
        "\n",
        "Create two dataframes called `rich_df` and `poor_df` for analysis after cleaning out for strictly continental US. \n"
      ],
      "metadata": {
        "id": "ADELB3jTcSmo"
      }
    },
    {
      "cell_type": "code",
      "source": [
        "# clean df. \n",
        "cleaned_storm_data = storm_events_data.loc[(storm_events_data['LONGITUDE'] > -140) & \n",
        "                                        (storm_events_data['LATITUDE'] > 20) & \n",
        "                                        (storm_events_data['LATITUDE'] < 50)].reset_index(drop=True)\n",
        "\n",
        "cleaned_income_data = income_data.loc[(income_data['Lon'] > -140) & \n",
        "                                    (income_data['Lat'] > 20) & \n",
        "                                    (income_data['Lat'] < 50)].reset_index(drop=True)"
      ],
      "metadata": {
        "id": "hrhVA1JRbrGj"
      },
      "execution_count": 129,
      "outputs": []
    },
    {
      "cell_type": "code",
      "source": [
        "# rich/poor segmentation\n",
        "rich_seg = cleaned_income_data[cleaned_income_data['Mean'] > 100000].reset_index(drop=True)\n",
        "poor_seg = cleaned_income_data[cleaned_income_data['Mean'] < 25000].reset_index(drop=True)"
      ],
      "metadata": {
        "id": "zoNnlD_5eL6F"
      },
      "execution_count": 130,
      "outputs": []
    },
    {
      "cell_type": "markdown",
      "source": [
        "## Calculate Nearest Distance between Points\n",
        "\n",
        "For each household we need to calculate the nearest severe weather event. We should write a function to do this. Let $x$,$y$ denote longitude and latitude respectively. then for some Houshold $H$, we should calculate the distance to all the severe weather events $E$ longitude and latitude. \n",
        "\n",
        "\n",
        "$$ d_{H,E} = 110.574 \\times \\sqrt{(x_H - x_E)^2 + (y_H - y_E)^2} $$\n",
        "\n",
        "Basically we are getting a eucledian distance to each severe weather event, and then multiplying by a constant to convert to km's for sanity. Then we want to find the distance to the nearest event so we take the minimum... \n",
        "\n",
        "$$ d_{min} = \\text{argmin}\\{d_{H,E_1}, d_{H,E_2}, \\dots, d_{H,E_n} \\} $$ \n",
        "\n",
        "\n",
        "Do this for every household, and plot the results in a histogram for both rich/poor households.  "
      ],
      "metadata": {
        "id": "9KxOWp6giJBe"
      }
    },
    {
      "cell_type": "code",
      "source": [
        "rich_longtitude = rich_seg['Lon']\n",
        "rich_latitude = rich_seg['Lat']\n",
        "\n",
        "poor_longtitude = poor_seg['Lon']\n",
        "poor_latitude = poor_seg['Lat']\n",
        "\n",
        "weather_long_lat = []\n",
        "for index in range(cleaned_storm_data.shape[0]):\n",
        "  weather_long_lat.append((cleaned_storm_data['LONGITUDE'][index], \n",
        "                          cleaned_storm_data['LATITUDE'][index]))"
      ],
      "metadata": {
        "id": "1gvObtIoh1y2"
      },
      "execution_count": 131,
      "outputs": []
    },
    {
      "cell_type": "code",
      "source": [
        "# calculate min distances for rich people\n",
        "rich_n_row = rich_seg.shape[0]\n",
        "rich_long_lat = []\n",
        "for index in range(rich_n_row):\n",
        "  rich_long_lat.append( (rich_longtitude[index], rich_latitude[index]) )\n",
        "\n",
        "rich_min_distances = []\n",
        "\n",
        "for item in rich_long_lat:\n",
        "  distances = []\n",
        "  for row in weather_long_lat:\n",
        "    weather_long, weather_lat = row\n",
        "    distance = 110.574 * np.sqrt( (item[0] - weather_long)**2 + (item[1] - weather_lat)**2)\n",
        "    distances.append(distance)\n",
        "  rich_min_distances.append(min(distances))"
      ],
      "metadata": {
        "id": "JthGRCiBKZZN"
      },
      "execution_count": 132,
      "outputs": []
    },
    {
      "cell_type": "code",
      "source": [
        "# calculate min distances for poor people\n",
        "poor_n_row = poor_seg.shape[0]\n",
        "poor_long_lat = []\n",
        "for index in range(poor_n_row):\n",
        "  poor_long_lat.append( (poor_longtitude[index], poor_latitude[index]) )\n",
        "\n",
        "poor_min_distances = []\n",
        "for item in poor_long_lat:\n",
        "  distances = []\n",
        "  for row in weather_long_lat:\n",
        "    weather_long, weather_lat = row\n",
        "    distance = 110.574 * np.sqrt( (item[0] - weather_long)**2 + (item[1] - weather_lat)**2)\n",
        "    distances.append(distance)\n",
        "  poor_min_distances.append(min(distances))"
      ],
      "metadata": {
        "id": "-M_Zw_UTKWzD"
      },
      "execution_count": 133,
      "outputs": []
    },
    {
      "cell_type": "code",
      "source": [
        "# plot rich people histogram, make bins at least 50, comment on the plot.\n",
        "plt.hist(rich_min_distances, bins=50);\n",
        "plt.title(\"Nearest distances to each severe weather event for rich households\");"
      ],
      "metadata": {
        "id": "qyUJS1khmDj7",
        "colab": {
          "base_uri": "https://localhost:8080/",
          "height": 281
        },
        "outputId": "835db2de-102d-4072-ef1b-d74851da1a73"
      },
      "execution_count": 134,
      "outputs": [
        {
          "output_type": "display_data",
          "data": {
            "text/plain": [
              "<Figure size 432x288 with 1 Axes>"
            ],
            "image/png": "[encoded data removed]"
          },
          "metadata": {
            "needs_background": "light"
          }
        }
      ]
    },
    {
      "cell_type": "markdown",
      "source": [
        "Comment: The nearest distances to each severe weather event for rich households have a main range from 0 to 60, mostly with a value less than 20, and with some outliers lying between 100 and 120."
      ],
      "metadata": {
        "id": "BddtvEsWjUYB"
      }
    },
    {
      "cell_type": "code",
      "source": [
        "# plot poor people histogram, make bins at least 50, comment on the plot\n",
        "plt.hist(poor_min_distances, bins=50);\n",
        "plt.title(\"Nearest distances to each severe weather event for poor households\");"
      ],
      "metadata": {
        "id": "eIDCYGQOmFB3",
        "colab": {
          "base_uri": "https://localhost:8080/",
          "height": 281
        },
        "outputId": "5837c4a2-5003-4e62-96d4-a74489e85481"
      },
      "execution_count": 135,
      "outputs": [
        {
          "output_type": "display_data",
          "data": {
            "text/plain": [
              "<Figure size 432x288 with 1 Axes>"
            ],
            "image/png": "[encoded data removed]"
          },
          "metadata": {
            "needs_background": "light"
          }
        }
      ]
    },
    {
      "cell_type": "markdown",
      "source": [
        "Comment: The nearest distances to each severe weather event for poor households have a main range from 0 to 80, mostly with a value less than 20, and with some outliers lying between 100 and 140. Moreover, comparing the plots for rich and poor households, poor households are having a longer minimum distance for some severe weather events. This may hlep us to have a guess that poor households may be less likely to be hit by the severe weather storm. \\\n",
        "PS: Actually I've got another concern. The sample sizes are different for rich and poor households, which might be a biased factor."
      ],
      "metadata": {
        "id": "_qaFVonPlCx5"
      }
    },
    {
      "cell_type": "markdown",
      "source": [
        "# Distributional Characteristic Statistics\n",
        "\n",
        "In the following cells please perform some statistical analysis and determine whether rich people are more likely to be struck by extreme weather events, or, poor people are more likely. The methods/statistics presented in week one in class are extremely useful.  \n",
        "\n",
        "You should also find the difference of mean pooled t-test useful in this case but you must justify your assumptions for using it. You can use any python libraries or functions as well as go on stack overflow. You should also use the functions written up in the previous class [here](https://colab.research.google.com/drive/1L1Kx8qoHCY3yjuYg2tE4W61xu79xG7lJ?usp=sharing).\n",
        "\n",
        "$$ t = \\frac{ \\bar{X}_R - \\bar{X}_P}{ s_T \\sqrt{\\frac{1}{n_R} + \\frac{1}{n_P}}  } $$\n",
        "\n",
        "where, \n",
        "$$ s_T = \\sqrt{ \\frac{(n_R - 1)s_R + (n_P -1)s_P}{n_R + n_P - 2}  }  $$\n",
        "\n",
        "Hint: Use the following function `stats.ttest_ind` and adjust the appropriate setting such that you test wether $\\bar{X}_R > \\bar{X}_P$, or vice versa.\n",
        "\n",
        "Hint-2: Use the functions from the previous week's notebook. \n",
        "\n",
        "Caveat: Keep resampling techniques under 500 scenarios (in class we used 1000).\n",
        "\n",
        "\n",
        "### Please write your conclusion at the end wether Rich or Poor people are more likely to get hit by a severe weather storm. "
      ],
      "metadata": {
        "id": "8hG1om4G2R-j"
      }
    },
    {
      "cell_type": "code",
      "source": [
        "t_test = stats.ttest_ind(rich_min_distances, poor_min_distances, alternative='greater')\n",
        "theoretical_t, theoretical_p = t_test[0], t_test[1]\n",
        "theoretical_p"
      ],
      "metadata": {
        "id": "Py3GNOHocjVF",
        "colab": {
          "base_uri": "https://localhost:8080/"
        },
        "outputId": "e4a3ef86-921d-4762-9749-a70bb54c9810"
      },
      "execution_count": 136,
      "outputs": [
        {
          "output_type": "execute_result",
          "data": {
            "text/plain": [
              "0.9999999999947364"
            ]
          },
          "metadata": {},
          "execution_count": 136
        }
      ]
    },
    {
      "cell_type": "code",
      "source": [
        "total_distances = rich_min_distances + poor_min_distances\n",
        "n_scenarios = 500\n",
        "t_statistics = np.zeros(n_scenarios)\n",
        "for i in range(n_scenarios):\n",
        "  resample = np.random.choice(total_distances, size=len(total_distances))\n",
        "  t_statistics[i] = stats.ttest_ind(resample[:len(rich_min_distances)], \n",
        "                                    resample[len(rich_min_distances):], \n",
        "                                    alternative='greater')[0]\n",
        "\n",
        "p_value_resampling = np.mean(abs(t_statistics) >= abs(theoretical_t))\n",
        "p_value_resampling"
      ],
      "metadata": {
        "colab": {
          "base_uri": "https://localhost:8080/"
        },
        "id": "8SywWzLNmBoI",
        "outputId": "a6cdb364-6ada-4492-ecd1-31a940d76999"
      },
      "execution_count": 137,
      "outputs": [
        {
          "output_type": "execute_result",
          "data": {
            "text/plain": [
              "0.0"
            ]
          },
          "metadata": {},
          "execution_count": 137
        }
      ]
    },
    {
      "cell_type": "markdown",
      "source": [
        "Under the assumption of the two populations having identical variances, I calculated the T-test for the means of two independent samples (nearest distances to each severe weather event for rich and poor households), with a null hypothesis $H_0$: $\\bar{X}_R < \\bar{X}_P$, with an alternative hypothesis $H_1$: $\\bar{X}_R \\geq \\bar{X}_P$. Since the theoratical p-value is much lager than the significance level of $5\\%$, so we cannot reject the null hypothesis, which means the average nearest distances to each severe weather event for rich households is less than that of poor households. That implies that rich households are more likely to get hit by a severe weather storm.\n",
        "\n",
        "Morover, we did resampling among the rich and poor samples and did the same two-sample t-test again, ending up with a resampling p-value of 0. Thus, we can reject the null hypotheis after the resampling. This is mainly because that, after resampling, the rich and poor smaples are mixed and there tends to be no difference between the expected values of the nearst values among two groups. "
      ],
      "metadata": {
        "id": "3-QkMsqmmY__"
      }
    }
  ]
}