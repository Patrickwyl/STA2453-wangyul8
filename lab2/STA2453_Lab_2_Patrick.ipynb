{
  "nbformat": 4,
  "nbformat_minor": 0,
  "metadata": {
    "colab": {
      "provenance": []
    },
    "kernelspec": {
      "name": "python3",
      "display_name": "Python 3"
    },
    "language_info": {
      "name": "python"
    }
  },
  "cells": [
    {
      "cell_type": "code",
      "execution_count": 1,
      "metadata": {
        "id": "meL-eG1kHiKz"
      },
      "outputs": [],
      "source": [
        "# preamble. \n",
        "import numpy as np # basic vector/matrix math\n",
        "import matplotlib.pyplot as plt # plotting and illustrations \n",
        "import seaborn as sns # advanced plotting and illustrations. \n",
        "import pandas as pd # data loading, saving, and general data manipulation. \n",
        "import scipy.stats as stats # inter alia, statistical distributions, functions and relevant objects.\n",
        "import scipy.optimize as optimize \n",
        "import torch # ML/AI model's and general optimization \n",
        "\n",
        "\n",
        "# regression model imports.  \n",
        "from sklearn.linear_model import LinearRegression\n",
        "from sklearn.linear_model import LogisticRegression\n",
        "\n",
        "import random\n",
        "import torch\n",
        "import math as m \n",
        "import torch.nn as nn "
      ]
    },
    {
      "cell_type": "markdown",
      "source": [
        "# STA 2453 Lab 2 Submission\n",
        "\n",
        "This lab notebook must be completed in the appropriate time during class and invigilated by the instructor. There are  3 parts in this evaluation, you must add both this notebook, and another generated `.py` file to the PR. \n",
        "\n",
        "Once the PR is in place, please tag both me and the TA in it. So in the end you will have two files. \n",
        "\n",
        "- `STA2453-Lab-2.ipynb`\n",
        "- `STA2453-Lab-2.py`\n",
        "\n",
        "Both of these are needed for a good submission. \n",
        "\n"
      ],
      "metadata": {
        "id": "cy8lXz8xHype"
      }
    },
    {
      "cell_type": "markdown",
      "source": [
        "\n",
        "\n",
        "\n",
        "\n",
        "---\n",
        "\n",
        "## Case Study: Modelling Student Survey Results from the University of Catania, Italy.\n",
        "---\n",
        "\n",
        "This data is collected from a survey of 270 students attending a statistics course at the Department of Economics and Business of the University of Catania in the academic year 2011/2012.  It\n",
        "     contains the following variables:\n",
        "\n",
        "- `GENDER` gender of the respondent\n",
        "\n",
        "- `HEIGHT` height of the respondent, measured in centimeters\n",
        "\n",
        "- `WEIGHT` weight of the respondent measure in kilograms. \n",
        "\n",
        "- `HEIGHT.F` height of the respondent's father measured in centimeters. \n",
        "\n",
        "---\n",
        "\n",
        "\n",
        "The dataset can be found here: \n",
        "\n",
        "`https://utstat.utoronto.ca/~pocucan/italian_students.csv`\n",
        "\n"
      ],
      "metadata": {
        "id": "SGEciGvQH7jr"
      }
    },
    {
      "cell_type": "markdown",
      "source": [
        "---\n",
        "\n",
        "## Part 1 Linear Regression \n",
        "---\n",
        "\n",
        "This part of the evaluation considers a linear regression model with an extension into a weighted counterpart.  \n",
        "\n",
        "We wish to assess the viability of this statement:\n",
        "\n",
        "`Can the height of the father predict the height of the child?` \n",
        "\n",
        "Load the dataset into a dataframe called `df`, grab the relevant columns as stated above. \n",
        "\n",
        "Next create two dataframes named `df_m` and `df_f` for male/female respectively. \n",
        "\n",
        "\n"
      ],
      "metadata": {
        "id": "zvZjHQmZJJt1"
      }
    },
    {
      "cell_type": "code",
      "source": [
        "from google.colab import drive\n",
        "drive.mount('/content/drive')"
      ],
      "metadata": {
        "id": "8uv-9S_Q4I5n"
      },
      "execution_count": null,
      "outputs": []
    },
    {
      "cell_type": "code",
      "source": [
        "# load the dataset and segment by reported gender. \n",
        "# load data\n",
        "df = pd.read_csv(\"/content/drive/MyDrive/STA2453/italian_students.csv\")"
      ],
      "metadata": {
        "id": "5gADh3OiHz5v"
      },
      "execution_count": 6,
      "outputs": []
    },
    {
      "cell_type": "code",
      "source": [
        "# just grab the relevant columns \n",
        "df = df[[\"GENDER\", \"HEIGHT\", \"HEIGHT.F\"]]\n",
        "df"
      ],
      "metadata": {
        "colab": {
          "base_uri": "https://localhost:8080/",
          "height": 424
        },
        "id": "v7Uw7XDr4Zr2",
        "outputId": "790c0b35-3a5f-4098-af5f-7ce791a4663a"
      },
      "execution_count": 15,
      "outputs": [
        {
          "output_type": "execute_result",
          "data": {
            "text/plain": [
              "    GENDER  HEIGHT  HEIGHT.F\n",
              "0        M     184       185\n",
              "1        M     186       180\n",
              "2        M     186       182\n",
              "3        M     179       177\n",
              "4        M     175       175\n",
              "..     ...     ...       ...\n",
              "265      F     160       178\n",
              "266      F     160       172\n",
              "267      F     165       174\n",
              "268      F     165       184\n",
              "269      F     165       179\n",
              "\n",
              "[270 rows x 3 columns]"
            ],
            "text/html": [
              "\n",
              "  <div id=\"df-fb7607be-8ad2-4668-9c45-fb4c1e84c2ec\">\n",
              "    <div class=\"colab-df-container\">\n",
              "      <div>\n",
              "<style scoped>\n",
              "    .dataframe tbody tr th:only-of-type {\n",
              "        vertical-align: middle;\n",
              "    }\n",
              "\n",
              "    .dataframe tbody tr th {\n",
              "        vertical-align: top;\n",
              "    }\n",
              "\n",
              "    .dataframe thead th {\n",
              "        text-align: right;\n",
              "    }\n",
              "</style>\n",
              "<table border=\"1\" class=\"dataframe\">\n",
              "  <thead>\n",
              "    <tr style=\"text-align: right;\">\n",
              "      <th></th>\n",
              "      <th>GENDER</th>\n",
              "      <th>HEIGHT</th>\n",
              "      <th>HEIGHT.F</th>\n",
              "    </tr>\n",
              "  </thead>\n",
              "  <tbody>\n",
              "    <tr>\n",
              "      <th>0</th>\n",
              "      <td>M</td>\n",
              "      <td>184</td>\n",
              "      <td>185</td>\n",
              "    </tr>\n",
              "    <tr>\n",
              "      <th>1</th>\n",
              "      <td>M</td>\n",
              "      <td>186</td>\n",
              "      <td>180</td>\n",
              "    </tr>\n",
              "    <tr>\n",
              "      <th>2</th>\n",
              "      <td>M</td>\n",
              "      <td>186</td>\n",
              "      <td>182</td>\n",
              "    </tr>\n",
              "    <tr>\n",
              "      <th>3</th>\n",
              "      <td>M</td>\n",
              "      <td>179</td>\n",
              "      <td>177</td>\n",
              "    </tr>\n",
              "    <tr>\n",
              "      <th>4</th>\n",
              "      <td>M</td>\n",
              "      <td>175</td>\n",
              "      <td>175</td>\n",
              "    </tr>\n",
              "    <tr>\n",
              "      <th>...</th>\n",
              "      <td>...</td>\n",
              "      <td>...</td>\n",
              "      <td>...</td>\n",
              "    </tr>\n",
              "    <tr>\n",
              "      <th>265</th>\n",
              "      <td>F</td>\n",
              "      <td>160</td>\n",
              "      <td>178</td>\n",
              "    </tr>\n",
              "    <tr>\n",
              "      <th>266</th>\n",
              "      <td>F</td>\n",
              "      <td>160</td>\n",
              "      <td>172</td>\n",
              "    </tr>\n",
              "    <tr>\n",
              "      <th>267</th>\n",
              "      <td>F</td>\n",
              "      <td>165</td>\n",
              "      <td>174</td>\n",
              "    </tr>\n",
              "    <tr>\n",
              "      <th>268</th>\n",
              "      <td>F</td>\n",
              "      <td>165</td>\n",
              "      <td>184</td>\n",
              "    </tr>\n",
              "    <tr>\n",
              "      <th>269</th>\n",
              "      <td>F</td>\n",
              "      <td>165</td>\n",
              "      <td>179</td>\n",
              "    </tr>\n",
              "  </tbody>\n",
              "</table>\n",
              "<p>270 rows × 3 columns</p>\n",
              "</div>\n",
              "      <button class=\"colab-df-convert\" onclick=\"convertToInteractive('df-fb7607be-8ad2-4668-9c45-fb4c1e84c2ec')\"\n",
              "              title=\"Convert this dataframe to an interactive table.\"\n",
              "              style=\"display:none;\">\n",
              "        \n",
              "  <svg xmlns=\"http://www.w3.org/2000/svg\" height=\"24px\"viewBox=\"0 0 24 24\"\n",
              "       width=\"24px\">\n",
              "    <path d=\"M0 0h24v24H0V0z\" fill=\"none\"/>\n",
              "    <path d=\"M18.56 5.44l.94 2.06.94-2.06 2.06-.94-2.06-.94-.94-2.06-.94 2.06-2.06.94zm-11 1L8.5 8.5l.94-2.06 2.06-.94-2.06-.94L8.5 2.5l-.94 2.06-2.06.94zm10 10l.94 2.06.94-2.06 2.06-.94-2.06-.94-.94-2.06-.94 2.06-2.06.94z\"/><path d=\"M17.41 7.96l-1.37-1.37c-.4-.4-.92-.59-1.43-.59-.52 0-1.04.2-1.43.59L10.3 9.45l-7.72 7.72c-.78.78-.78 2.05 0 2.83L4 21.41c.39.39.9.59 1.41.59.51 0 1.02-.2 1.41-.59l7.78-7.78 2.81-2.81c.8-.78.8-2.07 0-2.86zM5.41 20L4 18.59l7.72-7.72 1.47 1.35L5.41 20z\"/>\n",
              "  </svg>\n",
              "      </button>\n",
              "      \n",
              "  <style>\n",
              "    .colab-df-container {\n",
              "      display:flex;\n",
              "      flex-wrap:wrap;\n",
              "      gap: 12px;\n",
              "    }\n",
              "\n",
              "    .colab-df-convert {\n",
              "      background-color: #E8F0FE;\n",
              "      border: none;\n",
              "      border-radius: 50%;\n",
              "      cursor: pointer;\n",
              "      display: none;\n",
              "      fill: #1967D2;\n",
              "      height: 32px;\n",
              "      padding: 0 0 0 0;\n",
              "      width: 32px;\n",
              "    }\n",
              "\n",
              "    .colab-df-convert:hover {\n",
              "      background-color: #E2EBFA;\n",
              "      box-shadow: 0px 1px 2px rgba(60, 64, 67, 0.3), 0px 1px 3px 1px rgba(60, 64, 67, 0.15);\n",
              "      fill: #174EA6;\n",
              "    }\n",
              "\n",
              "    [theme=dark] .colab-df-convert {\n",
              "      background-color: #3B4455;\n",
              "      fill: #D2E3FC;\n",
              "    }\n",
              "\n",
              "    [theme=dark] .colab-df-convert:hover {\n",
              "      background-color: #434B5C;\n",
              "      box-shadow: 0px 1px 3px 1px rgba(0, 0, 0, 0.15);\n",
              "      filter: drop-shadow(0px 1px 2px rgba(0, 0, 0, 0.3));\n",
              "      fill: #FFFFFF;\n",
              "    }\n",
              "  </style>\n",
              "\n",
              "      <script>\n",
              "        const buttonEl =\n",
              "          document.querySelector('#df-fb7607be-8ad2-4668-9c45-fb4c1e84c2ec button.colab-df-convert');\n",
              "        buttonEl.style.display =\n",
              "          google.colab.kernel.accessAllowed ? 'block' : 'none';\n",
              "\n",
              "        async function convertToInteractive(key) {\n",
              "          const element = document.querySelector('#df-fb7607be-8ad2-4668-9c45-fb4c1e84c2ec');\n",
              "          const dataTable =\n",
              "            await google.colab.kernel.invokeFunction('convertToInteractive',\n",
              "                                                     [key], {});\n",
              "          if (!dataTable) return;\n",
              "\n",
              "          const docLinkHtml = 'Like what you see? Visit the ' +\n",
              "            '<a target=\"_blank\" href=https://colab.research.google.com/notebooks/data_table.ipynb>data table notebook</a>'\n",
              "            + ' to learn more about interactive tables.';\n",
              "          element.innerHTML = '';\n",
              "          dataTable['output_type'] = 'display_data';\n",
              "          await google.colab.output.renderOutput(dataTable, element);\n",
              "          const docLink = document.createElement('div');\n",
              "          docLink.innerHTML = docLinkHtml;\n",
              "          element.appendChild(docLink);\n",
              "        }\n",
              "      </script>\n",
              "    </div>\n",
              "  </div>\n",
              "  "
            ]
          },
          "metadata": {},
          "execution_count": 15
        }
      ]
    },
    {
      "cell_type": "code",
      "source": [
        "# check missing values\n",
        "df.isna().sum()"
      ],
      "metadata": {
        "colab": {
          "base_uri": "https://localhost:8080/"
        },
        "id": "7V5B-wVR8qUM",
        "outputId": "b16388a2-702b-4a57-a540-be51273799e9"
      },
      "execution_count": 27,
      "outputs": [
        {
          "output_type": "execute_result",
          "data": {
            "text/plain": [
              "GENDER      0\n",
              "HEIGHT      0\n",
              "HEIGHT.F    0\n",
              "dtype: int64"
            ]
          },
          "metadata": {},
          "execution_count": 27
        }
      ]
    },
    {
      "cell_type": "code",
      "source": [
        "# segment by gender. \n",
        "df_M = df[ df[\"GENDER\"] ==\"M\"]\n",
        "df_F = df[ df[\"GENDER\"] ==\"F\"]"
      ],
      "metadata": {
        "id": "-JX9M7wO5JE5"
      },
      "execution_count": null,
      "outputs": []
    },
    {
      "cell_type": "code",
      "source": [
        "# plot the data in a pairplot using the seaborn package and title it appropriately. \n",
        "sns.scatterplot(x = df[\"HEIGHT.F\"], y=df[\"HEIGHT\"], color = 'grey', s = 5.0).set(title=\"Scatter plot of Child's height vs. Father's height\")\n",
        "# give some comments on the structure of the data. "
      ],
      "metadata": {
        "id": "tpU7kBUVPief",
        "colab": {
          "base_uri": "https://localhost:8080/",
          "height": 313
        },
        "outputId": "05b36883-b1cb-4d24-f095-18bd5708c5c4"
      },
      "execution_count": 31,
      "outputs": [
        {
          "output_type": "execute_result",
          "data": {
            "text/plain": [
              "[Text(0.5, 1.0, \"Scatter plot of Child's height vs. Father's height\")]"
            ]
          },
          "metadata": {},
          "execution_count": 31
        },
        {
          "output_type": "display_data",
          "data": {
            "text/plain": [
              "<Figure size 432x288 with 1 Axes>"
            ],
            "image/png": "[encoded data removed]"
          },
          "metadata": {
            "needs_background": "light"
          }
        }
      ]
    },
    {
      "cell_type": "markdown",
      "source": [
        "## Comment: The above plot appears to have two different patterns, which might because of the different groups of males and females."
      ],
      "metadata": {
        "id": "OW6UAKMJ6Y4H"
      }
    },
    {
      "cell_type": "markdown",
      "source": [
        "Plot the same data in a pairplot using the seaborn package. Title it approprietly, AND, \n",
        "color the points by the GENDER variable. \n",
        "- Females in red \n",
        "- Males in blue\n",
        "\n",
        "Give some comments on the structure of the data. Specifically whether the assumptions for a linear model fit are valid or not. "
      ],
      "metadata": {
        "id": "85krYb6G7kp3"
      }
    },
    {
      "cell_type": "code",
      "source": [
        "# plot the data with respective colours. \n",
        "# Females in red.\n",
        "sns.scatterplot(x = df_F[\"HEIGHT.F\"], y=df_F[\"HEIGHT\"], color = 'red', s = 5.0).set(title=\"Scatter plot of Child's height vs. Father's height\")\n",
        "# Males in blue.\n",
        "sns.scatterplot(x = df_M[\"HEIGHT.F\"], y=df_M[\"HEIGHT\"], color = 'blue', s = 5.0)\n",
        "# now give some comments on the structure of the data"
      ],
      "metadata": {
        "id": "_JT4urmaRUgd",
        "colab": {
          "base_uri": "https://localhost:8080/",
          "height": 313
        },
        "outputId": "5603b927-1ada-4da1-c5e4-72156b24f671"
      },
      "execution_count": 30,
      "outputs": [
        {
          "output_type": "execute_result",
          "data": {
            "text/plain": [
              "<matplotlib.axes._subplots.AxesSubplot at 0x7f4387f7c950>"
            ]
          },
          "metadata": {},
          "execution_count": 30
        },
        {
          "output_type": "display_data",
          "data": {
            "text/plain": [
              "<Figure size 432x288 with 1 Axes>"
            ],
            "image/png": "[encoded data removed]"
          },
          "metadata": {
            "needs_background": "light"
          }
        }
      ]
    },
    {
      "cell_type": "markdown",
      "source": [
        "## Comment: \n",
        "The height of a female and the height of her father tend to show a positive linear relationship.\n",
        "\n",
        "Similarly, the height of a male and the height of his father tend to show a positive linear relationship.\n",
        "\n",
        "Moreover, it is obvious that males mostly tend to be taller than females. "
      ],
      "metadata": {
        "id": "7XZU5FeR7U0t"
      }
    },
    {
      "cell_type": "markdown",
      "source": [
        "Fit a linear model using the following setup: \n",
        "`HEIGHT ~ HEIGHT.F`, ie. can the father's height predict the child's hight. Denote this linear model as \n",
        "`lm_general`, i.e. a linear model for the general dataset. \n",
        "\n",
        "Calculate the MSE of `lm_general`. "
      ],
      "metadata": {
        "id": "XH5L87pV8F4H"
      }
    },
    {
      "cell_type": "code",
      "source": [
        "# declare model. \n",
        "lm_general = LinearRegression()\n",
        "# numpy matrices.\n",
        "X_general = df[['HEIGHT.F']]\n",
        "y_general = df['HEIGHT'] \n",
        "# fit model. \n",
        "lm_general.fit(X_general, y_general)\n",
        "\n",
        "# Prediction.\n",
        "predicted_y_general = lm_general.predict(X_general)\n",
        "\n",
        "# MSE.\n",
        "from sklearn.metrics import mean_squared_error\n",
        "mse_general = mean_squared_error(y_general, predicted_y_general)\n",
        "print(f\"The MSE of lm_general is {mse_general}.\")"
      ],
      "metadata": {
        "id": "6f2UsAcdT4dZ",
        "colab": {
          "base_uri": "https://localhost:8080/"
        },
        "outputId": "ff1afb00-a5bf-4937-c41a-60d2f22665db"
      },
      "execution_count": 36,
      "outputs": [
        {
          "output_type": "stream",
          "name": "stdout",
          "text": [
            "The MSE of lm_general is 81.54862159643423.\n"
          ]
        }
      ]
    },
    {
      "cell_type": "markdown",
      "source": [
        "Fit two linear models using the same setup \n",
        "`HEIGHT ~ HEIGHT.F`, on the dataframes `df_m` and `df_f`, the two segmented by gender populations. \n",
        "\n",
        "You should have two different model objects, name them \n",
        "`lm_male` and `lm_female`. \n",
        "\n",
        "report the aggregate MSE for both models. Ie.\n",
        "- MSE_F\n",
        "- MSE_M  \n",
        "- MSE_AGGREGATE = MSE_F + MSE_M \n",
        "\n",
        "Comment on the difference between the MSE performance of these models vs the previous, general model. \n",
        "\n"
      ],
      "metadata": {
        "id": "sOMK9ing8fWp"
      }
    },
    {
      "cell_type": "code",
      "source": [
        "# declare models for each gender. \n",
        "lm_male = LinearRegression()\n",
        "lm_female = LinearRegression()\n",
        "\n",
        "# fit male\n",
        "# numpy matrices.\n",
        "X_male = df_M[['HEIGHT.F']]\n",
        "y_male = df_M['HEIGHT'] \n",
        "lm_male.fit(X_male, y_male)\n",
        "\n",
        "# fit female \n",
        "# numpy matrices.\n",
        "X_female = df_F[['HEIGHT.F']]\n",
        "y_female = df_F['HEIGHT'] \n",
        "lm_female.fit(X_female, y_female)"
      ],
      "metadata": {
        "id": "vD4J5yTCN43-",
        "colab": {
          "base_uri": "https://localhost:8080/"
        },
        "outputId": "9865b3ba-fc19-4cad-91e0-72a17ca10f7c"
      },
      "execution_count": 39,
      "outputs": [
        {
          "output_type": "execute_result",
          "data": {
            "text/plain": [
              "LinearRegression()"
            ]
          },
          "metadata": {},
          "execution_count": 39
        }
      ]
    },
    {
      "cell_type": "code",
      "source": [
        "# calculate MSE's\n",
        "\n",
        "# Prediction.\n",
        "predicted_y_male = lm_male.predict(X_male)\n",
        "predicted_y_female = lm_female.predict(X_female)\n",
        "\n",
        "# MSE.\n",
        "mse_male = mean_squared_error(y_male, predicted_y_male)\n",
        "print(f\"The MSE of lm_male is {mse_male}.\")\n",
        "\n",
        "mse_female = mean_squared_error(y_female, predicted_y_female)\n",
        "print(f\"The MSE of lm_female is {mse_female}.\")\n",
        "\n",
        "mse_aggregate = mse_male + mse_female\n",
        "print(f\"The aggregate MSE is {mse_aggregate}.\")\n",
        "# comment on results. "
      ],
      "metadata": {
        "id": "xYcq3CFEOXfz",
        "colab": {
          "base_uri": "https://localhost:8080/"
        },
        "outputId": "b83a7829-43fb-4ceb-9fdc-ec34fb554df1"
      },
      "execution_count": 41,
      "outputs": [
        {
          "output_type": "stream",
          "name": "stdout",
          "text": [
            "The MSE of lm_male is 11.312106388928369.\n",
            "The MSE of lm_female is 15.337041297553613.\n",
            "The aggregate MSE is 26.64914768648198.\n"
          ]
        }
      ]
    },
    {
      "cell_type": "markdown",
      "source": [
        "## Comment\n",
        "The MSE of lm_female is greater than the MSE of lm_male.\n",
        "\n",
        "The aggregate MSE of the two linear models for two segmented by gender populations is much smaller than the previuos general model. This implies that the male and female groups might have different variations."
      ],
      "metadata": {
        "id": "eAnHOA-XAaSE"
      }
    },
    {
      "cell_type": "markdown",
      "source": [
        "Render a scatter plot of `x=HEIGHT.F` and `y=HEIGHT` in grey points. \n",
        "\n",
        "- Plot the predicted fits of the `lm_general` model in black. (Black line)\n",
        "- Plot the predictive fits of the `lm_male` model in blue. (Blue line)\n",
        "- Plot the predictive fits of the `lm_female` model in red. (Red line) \n",
        "\n",
        "All superimposed on the same plot. So the plot should have grey points, one black line, one red line, and one blue line. Title it appropriately. \n",
        "\n",
        "Comment on how/why segmentation improves the model fit. Be sure to address the assumptions of a linear regression model. "
      ],
      "metadata": {
        "id": "1s2I_a8MW6wA"
      }
    },
    {
      "cell_type": "code",
      "source": [
        "# y_hat\n",
        "df[\"y_hat\"] = predicted_y_general\n",
        "df_M[\"y_hat\"] = predicted_y_male\n",
        "df_F[\"y_hat\"] = predicted_y_female"
      ],
      "metadata": {
        "id": "zaptIDQxBoT_"
      },
      "execution_count": null,
      "outputs": []
    },
    {
      "cell_type": "code",
      "source": [
        "# Plot the fits of the lm models, you need three lines, one blue, one black, and one red.  \n",
        "# points are in grey.  \n",
        "sns.scatterplot(x = df[\"HEIGHT.F\"], y=df[\"HEIGHT\"], color = 'grey', s = 5.0).set(title=\"Fitted lines for Child's height vs. Father's height for males and females groups\")\n",
        "\n",
        "# add fitted line\n",
        "sns.scatterplot(x = df[\"HEIGHT.F\"], \n",
        "                y = df[\"y_hat\"], \n",
        "                color = \"black\", \n",
        "                s = 5,\n",
        "                edgecolor = \"black\")\n",
        "sns.scatterplot(x = df_M[\"HEIGHT.F\"], \n",
        "                y = df_M[\"y_hat\"], \n",
        "                color = \"blue\", \n",
        "                s = 5,\n",
        "                edgecolor = \"black\")\n",
        "sns.scatterplot(x = df_F[\"HEIGHT.F\"], \n",
        "                y = df_F[\"y_hat\"], \n",
        "                color = \"red\", \n",
        "                s = 5,\n",
        "                edgecolor = \"black\")\n",
        "# don't forget to title it correctly! "
      ],
      "metadata": {
        "id": "cA5q3GOocaML",
        "colab": {
          "base_uri": "https://localhost:8080/",
          "height": 313
        },
        "outputId": "7f3b22d0-ce96-44fd-ae17-8bc0763ccc8e"
      },
      "execution_count": 45,
      "outputs": [
        {
          "output_type": "execute_result",
          "data": {
            "text/plain": [
              "<matplotlib.axes._subplots.AxesSubplot at 0x7f4387ccea10>"
            ]
          },
          "metadata": {},
          "execution_count": 45
        },
        {
          "output_type": "display_data",
          "data": {
            "text/plain": [
              "<Figure size 432x288 with 1 Axes>"
            ],
            "image/png": "[encoded data removed]"
          },
          "metadata": {
            "needs_background": "light"
          }
        }
      ]
    },
    {
      "cell_type": "markdown",
      "source": [
        "# Comment"
      ],
      "metadata": {
        "id": "mReer1t7CYjE"
      }
    },
    {
      "cell_type": "markdown",
      "source": [
        "---\n",
        "# Part 2 Logistic and Weighted Linear Regression \n",
        "---\n",
        "\n",
        "Fit a logistic regression model predicting gender as `GENDER ~ WEIGHT`, name it `lm_logreg`. \n",
        "\n",
        "Render a scatter plot with the `x=HEIGHT.F`, `y=HEIGHT` with the points colored by the predicted gender of the `lm_logreg` model. \n",
        "- Females in red. \n",
        "- Males in blue. \n",
        "\n",
        "Using the visual, comment on the performance of the logistic regression to segment populations. Use one of subplots for the pairplot in Part 1 to justify the performance of the model. "
      ],
      "metadata": {
        "id": "riyuCnIZ9vkB"
      }
    },
    {
      "cell_type": "code",
      "source": [
        "# do a logistic model predicting GENDER \n",
        "# load data\n",
        "df_2 = pd.read_csv(\"/content/drive/MyDrive/STA2453/italian_students.csv\")\n",
        "X_log = df_2[[\"WEIGHT\"]]\n",
        "# set Male to 1 and female to 0\n",
        "#df_2[df_2[\"GENDER\"]==\"M\"] = 1\n",
        "#df_2[df_2[\"GENDER\"]==\"F\"] = 0\n",
        "y_log = df_2[\"GENDER\"]\n",
        "log_model = LogisticRegression()\n",
        "log_model.fit(X_log, y_log)\n",
        "# predict class. \n",
        "predict_gender = log_model.predict(X_log)\n",
        "# free function to help you with creating colors just for you. \n",
        "def map_colors(x): \n",
        "  if x == \"F\":\n",
        "    return \"red\"\n",
        "  else: \n",
        "    return \"blue\"\n",
        "# create color np.array "
      ],
      "metadata": {
        "id": "zFGPBL0nd2nn"
      },
      "execution_count": 75,
      "outputs": []
    },
    {
      "cell_type": "code",
      "source": [
        "df_2[\"label\"] = predict_gender\n",
        "# plot scatter plot with logistic regression labels by color. \n",
        "sns.scatterplot(data=df_2, x='WEIGHT', y='GENDER', hue=\"label\", palette = 'bright', s = 5).set(title=\"scatter plot with logistic regression labels by color\")\n",
        "# comment on the results. "
      ],
      "metadata": {
        "id": "szXFRst0fFq8",
        "colab": {
          "base_uri": "https://localhost:8080/",
          "height": 313
        },
        "outputId": "0841c76d-8adc-4d3a-bf9d-6c90d41921a3"
      },
      "execution_count": 76,
      "outputs": [
        {
          "output_type": "execute_result",
          "data": {
            "text/plain": [
              "[Text(0.5, 1.0, 'scatter plot with logistic regression labels by color')]"
            ]
          },
          "metadata": {},
          "execution_count": 76
        },
        {
          "output_type": "display_data",
          "data": {
            "text/plain": [
              "<Figure size 432x288 with 1 Axes>"
            ],
            "image/png": "[encoded data removed]"
          },
          "metadata": {
            "needs_background": "light"
          }
        }
      ]
    },
    {
      "cell_type": "markdown",
      "source": [
        "Acquire the probabilities from the logistic regression model, denote the probability matrix `Z`. The matrix should be `(270,2)` in shape, each entry denoting the probability for each observation `i` belonging to group `g`. ie. `z_ig`. \n",
        "\n",
        "For each column, create two weighted linear regression models denoted as `lm_female_weighted` and `lm_male_weighted`."
      ],
      "metadata": {
        "id": "Ly7lf2qS-wCo"
      }
    },
    {
      "cell_type": "code",
      "source": [
        "# calculate the weights of a logistic model, then use them for a weighted regression. \n",
        "Z = log_model.predict_proba(X_log)\n",
        "weights_1 = Z[:, 0]\n",
        "weights_2 = Z[:, 1]\n",
        "y_log = y_log.replace(\"M\", 1)\n",
        "y_log = y_log.replace(\"F\", 0)\n",
        "# declare the weighted models. \n",
        "# Fit a weighted linear regression model.\n",
        "weighted_lm1 = LinearRegression() \n",
        "weighted_lm2 = LinearRegression() \n",
        "# fit the models. \n",
        "weighted_lm1.fit(X_log, y_log, sample_weight = weights_1)\n",
        "weighted_lm2.fit(X_log, y_log, sample_weight = weights_2)"
      ],
      "metadata": {
        "id": "lZJnY8sPfhoz",
        "colab": {
          "base_uri": "https://localhost:8080/"
        },
        "outputId": "6aba1908-6f07-465f-da5a-4cbf3ac8dacc"
      },
      "execution_count": 82,
      "outputs": [
        {
          "output_type": "execute_result",
          "data": {
            "text/plain": [
              "LinearRegression()"
            ]
          },
          "metadata": {},
          "execution_count": 82
        }
      ]
    },
    {
      "cell_type": "markdown",
      "source": [
        "Plot the data points in grey, plot the predicted fits of the general population for each linear model. \n",
        "\n",
        "- `lm_male_weighted` prediction in blue (blue line)\n",
        "- `lm_female_weighted` prediction in red (red line)\n",
        "\n",
        "Title it appropriately and comment on the weighted model fits compared to the `lm_general` model. "
      ],
      "metadata": {
        "id": "EqNCgXqOAUj9"
      }
    },
    {
      "cell_type": "code",
      "source": [
        "# Plot the fits of the lm models. \n",
        "def plot_fitted_line(df, y_hat, color): \n",
        "  \"\"\"\n",
        "  Helper function for plotting predicted line.\n",
        "  \"\"\"\n",
        "  df_copy = df.copy()\n",
        "  df_copy[\"y_hat\"] = y_hat \n",
        "  sns.scatterplot(x = df_2[\"WEIGHT\"], \n",
        "              y = df_copy[\"y_hat\"], \n",
        "              color = color, \n",
        "              s = 5,\n",
        "              edgecolor = \"black\")\n",
        "  \n",
        "# Plot the original data.\n",
        "sns.scatterplot(x=df_2[\"WEIGHT\"], y = df_2[\"GENDER\"], color = 'grey', s = 5).set(title=\"Predictted lines by a weighted linear regression\")\n",
        "# Plot the fitted lines.\n",
        "# Prediction.\n",
        "weighted_lm1_y_hat = weighted_lm1.predict(X_log)\n",
        "weighted_lm2_y_hat = weighted_lm2.predict(X_log)\n",
        "plot_fitted_line(df, weighted_lm1_y_hat, \"red\")\n",
        "plot_fitted_line(df, weighted_lm2_y_hat, \"blue\")\n",
        "\n",
        "# comment on the results of the weighted linear regression. "
      ],
      "metadata": {
        "id": "0IM6yXO_hpkW",
        "colab": {
          "base_uri": "https://localhost:8080/",
          "height": 295
        },
        "outputId": "d74f9ffc-f011-4428-fefc-c510dd370afe"
      },
      "execution_count": 85,
      "outputs": [
        {
          "output_type": "display_data",
          "data": {
            "text/plain": [
              "<Figure size 432x288 with 1 Axes>"
            ],
            "image/png": "[encoded data removed]"
          },
          "metadata": {
            "needs_background": "light"
          }
        }
      ]
    },
    {
      "cell_type": "markdown",
      "source": [
        "---\n",
        "## Part 3: Finite Mixture Modelling \n",
        "---\n",
        "\n",
        "Fit an appropriate finite mixture model to the dataset. Determine the optimal number of components `G` using BIC.\n",
        "\n",
        "To achieve a 4 you must appropriately model both the conditional distribution of `HEIGHT ~ HEIGHT.F` and the covariate distribution for `HEIGHT.F` within the context of a finite mixture model. "
      ],
      "metadata": {
        "id": "dcBzPoNupw5w"
      }
    },
    {
      "cell_type": "code",
      "source": [
        "class FiniteLinearModel(nn.Module):\n",
        "  \"\"\"\n",
        "  Class for Finite mixtures of Linear models.\n",
        "  \"\"\"\n",
        "\n",
        "  def __init__(self, G: int, data: torch.Tensor, seed: int):\n",
        "    \"\"\"\n",
        "    Constructor class for finite mixtures of linear models.\n",
        "    G: total number of groups.\n",
        "    \"\"\"\n",
        "\n",
        "    if not isinstance(data, torch.Tensor):\n",
        "        raise Exception(\"data is not of torch.Tensor type\")\n",
        "\n",
        "    super(FiniteLinearModel, self).__init__()\n",
        "\n",
        "    # define constants.\n",
        "    self.n = data.shape[0]  # number of observations\n",
        "    self.G = G if G > 0 else exec(\"raise Exception('G has to be valid')\")  # number of groups\n",
        "\n",
        "    # define data\n",
        "    self.X = data[:, 1:]  # self.X = df['dens']\n",
        "    # add ones column\n",
        "    self.X = torch.concat((self.X, torch.ones(self.n, 1)), axis=1)\n",
        "    self.y = data[:, 0]  # self.y = df['y_log']\n",
        "\n",
        "    # first column is y, the rest are covariates.\n",
        "    self.p = self.X.shape[1]  # self.p=2, 'dens' and ones\n",
        "\n",
        "    # Set random seed for all torch use.\n",
        "    torch.manual_seed(seed)\n",
        "    torch.cuda.manual_seed(seed)\n",
        "    torch.cuda.manual_seed_all(seed)\n",
        "    np.random.seed(seed)\n",
        "    random.seed(seed)\n",
        "    torch.backends.cudnn.benchmark = False\n",
        "    torch.backends.cudnn.deterministic = True\n",
        "\n",
        "    # Randomly initialize parameters.\n",
        "    self.pi = torch.rand(self.G, 1)  # define mixing proportion pi_g for each group \n",
        "    self.z = torch.rand(self.n, self.G)  # define membership weight z_ig for each observation\n",
        "    self.beta = torch.rand(self.G, self.p)  # estimated coefficients for weighted linear regression; dens -> y_log\n",
        "    # each group follows a different Gaussian distribution\n",
        "    # -> different mu's and sigma's for each group\n",
        "    self.mu = torch.rand(self.G, 1)\n",
        "    self.sigma = torch.rand(self.G, 1).abs()\n",
        "\n",
        "    self.leading_constants = - 0.5 * torch.Tensor([2.0 * torch.pi]).log()  # log(sqrt(2pi))\n",
        "\n",
        "  def log_density(self) -> torch.Tensor:\n",
        "    \"\"\"\n",
        "    Take in a covariate dataset X, and sample y.\n",
        "    Use X to estimate mu; mu_g = y_hat predicted by the fitted weighted linear regression.\n",
        "    Compute an (n x G) matrix of log Gaussian densities.\n",
        "    \"\"\"\n",
        "\n",
        "    # Calculate log density matrix n x G.\n",
        "    log_dens = torch.zeros(self.n, self.G)\n",
        "\n",
        "    # Loop through the groups.\n",
        "    for g in range(self.G):\n",
        "\n",
        "        # Estimate mu by the fitted weighted linear regression.\n",
        "        estimated_mu = (self.beta[g] * self.X).sum(-1)\n",
        "\n",
        "        # Compute exponential terms.\n",
        "        exp_terms = - 0.5 * ((self.y - estimated_mu) / self.sigma[g]).pow(2)\n",
        "        \n",
        "        # Add each log component.\n",
        "        log_dens[:, g] = exp_terms + self.leading_constants\n",
        "        log_dens[:, g] += - self.sigma[g].log()\n",
        "\n",
        "    return log_dens\n",
        "\n",
        "  def Estep(self):\n",
        "    \"\"\"\n",
        "    Computes the expectation step using parameters for X ,y.\n",
        "    \"\"\"\n",
        "    dens = self.log_density().exp()  # density matrix n x G\n",
        "\n",
        "    numerator = dens * self.pi.T  # multiply by mixing proportion pi_g for each group\n",
        "\n",
        "    denominator = numerator.sum(-1).unsqueeze(-1)\n",
        "  \n",
        "    # update the membership weight z_ig\n",
        "    self.z = dens / denominator\n",
        "\n",
        "  def Mstep(self):\n",
        "    \"\"\"\n",
        "    Use the membership weights and the data to calculate new parameter values.\n",
        "    \"\"\"\n",
        "    # the sum of the membership weights for the gth group\n",
        "    n_g = self.z.sum(dim = 0)\n",
        "\n",
        "    # mixing proportion pi_g for each group\n",
        "    self.pi = n_g / self.n\n",
        "\n",
        "    # Fit a weighted linear regression model for each group g to eatimate u_g and sigma_g.\n",
        "    for g in range(self.G):\n",
        "      z_g = self.z[:, g]\n",
        "      weighted_lm = LinearRegression()\n",
        "      weighted_lm.fit(self.X, self.y, sample_weight = z_g)\n",
        "      # update coefficients\n",
        "      self.beta[g, :] = torch.Tensor(weighted_lm.coef_) \n",
        "      # use the fitted weighted linear regression to estimate u_g\n",
        "      predicted_mu = weighted_lm.predict(self.X)\n",
        "      # update u_g\n",
        "      self.mu[g] = torch.sum(torch.Tensor(predicted_mu)) / n_g[g]\n",
        "      # update sigma_g\n",
        "      self.sigma[g] = torch.sqrt(torch.sum(z_g * (self.y - self.mu[g])**2) / n_g[g])\n",
        "  \n",
        "  def objective_fn(self):      \n",
        "    # Compute the density matrix n x G. \n",
        "    dens = self.log_density().exp()\n",
        "\n",
        "    obj_func = -((dens * self.z).sum(-1).log()).sum() \n",
        "    \n",
        "    return obj_func\n",
        "  \n",
        "  def BIC(self):\n",
        "    \"\"\"\n",
        "    Calculate the Bayesian Information Criterion for model performance comparisons.\n",
        "    \"\"\"\n",
        "    # Calculate the number of parameters. \n",
        "    rho = self.mu.numel() + self.sigma.numel() + self.z.numel()\n",
        "    # Calculate BIC.\n",
        "    bic = self.objective_fn() * (-2.0) - rho * m.log(self.y.shape[0])\n",
        "\n",
        "    return float(bic.detach()) \n",
        "  \n",
        "  def train(self, max_iterations):\n",
        "    \"\"\"\n",
        "    Run the EM algorithm to predict the labels for each observation.\n",
        "    \"\"\"\n",
        "    for i in range(max_iterations + 1):\n",
        "      self.Estep()\n",
        "      self.Mstep()\n",
        "      \n",
        "      # Label each observation by the greatest weight.\n",
        "      predict_label = torch.argmax(self.z, dim=1) + 1  \n",
        "      # Transform labels into a numpy.array.\n",
        "      predict_label = predict_label.detach().numpy().astype(int)\n",
        "\n",
        "      # Check membership sizes and BIC for every 100 iterations.\n",
        "      if i % 100 == 0:\n",
        "        print(f\"Membership sizes for the {i+1}th iteration:\")\n",
        "        print(pd.Series(predict_label).value_counts())  \n",
        "        print(f\"BIC for the {i+1}th iteration: {self.BIC()}\") \n",
        "        print(\"\\n\")\n",
        "        \n",
        "    return predict_label "
      ],
      "metadata": {
        "id": "azFNHIX7i6Io"
      },
      "execution_count": null,
      "outputs": []
    },
    {
      "cell_type": "markdown",
      "source": [
        "### Plot Mixture Model Results \n",
        "\n",
        "Acquire the labels of the model by taking the maximum of the a-posteriori. (MAP) Render a scatter plot of \n",
        "`x=HEIGHT.F`, `y=HEIGHT`, with the colors being the labels given by the MAP's. \n",
        "\n",
        "- Males should be colored in blue.\n",
        "- Females should be colored in red. \n",
        "\n",
        "comment on the ability of the finite mixture model to segment the population in an unsupervised manner. "
      ],
      "metadata": {
        "id": "bN81mKilFxv4"
      }
    },
    {
      "cell_type": "code",
      "source": [
        "# get MAP labels. \n",
        "\n",
        "# declare colours and plot HEIGHT.F vs HEIGHT. "
      ],
      "metadata": {
        "id": "1bB1jDD0rMdb"
      },
      "execution_count": null,
      "outputs": []
    },
    {
      "cell_type": "markdown",
      "source": [
        "### Classification Table\n",
        "Use the following function (`table_counts`) to create a classification table. \n",
        "Pass in the GENDER column as well as the output of the MAP labels, and comment on the ability of the Finite mixture model to correctly classify the sub-populations. \n"
      ],
      "metadata": {
        "id": "1ILJ6gDvlJMF"
      }
    },
    {
      "cell_type": "code",
      "source": [
        "def table_counts(x: np.array, y: np.array, labels=[\"x\",\"y\"]) -> None:\n",
        "  \"\"\"\n",
        "    Creates a classification table to visually assess misclassification. \n",
        "  \"\"\"\n",
        "\n",
        "  table_df = pd.DataFrame({labels[0]: x, labels[1]: y})\n",
        "  print(table_df.groupby(labels).size().unstack())\n",
        "\n",
        "# get the classification table. \n",
        "\n",
        "# comment on the performance of the finite mixture model. "
      ],
      "metadata": {
        "id": "0iX35XErtvfh"
      },
      "execution_count": null,
      "outputs": []
    }
  ]
}