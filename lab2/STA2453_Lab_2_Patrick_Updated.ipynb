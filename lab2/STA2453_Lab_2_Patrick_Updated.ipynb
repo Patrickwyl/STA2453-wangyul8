{
  "nbformat": 4,
  "nbformat_minor": 0,
  "metadata": {
    "colab": {
      "provenance": []
    },
    "kernelspec": {
      "name": "python3",
      "display_name": "Python 3"
    },
    "language_info": {
      "name": "python"
    }
  },
  "cells": [
    {
      "cell_type": "code",
      "execution_count": 154,
      "metadata": {
        "id": "meL-eG1kHiKz"
      },
      "outputs": [],
      "source": [
        "# preamble. \n",
        "import numpy as np # basic vector/matrix math\n",
        "import matplotlib.pyplot as plt # plotting and illustrations \n",
        "import seaborn as sns # advanced plotting and illustrations. \n",
        "import pandas as pd # data loading, saving, and general data manipulation. \n",
        "import scipy.stats as stats # inter alia, statistical distributions, functions and relevant objects.\n",
        "import scipy.optimize as optimize \n",
        "import torch # ML/AI model's and general optimization \n",
        "\n",
        "\n",
        "# regression model imports.  \n",
        "from sklearn.linear_model import LinearRegression\n",
        "from sklearn.linear_model import LogisticRegression\n",
        "\n",
        "import random\n",
        "import torch\n",
        "import math as m \n",
        "import torch.nn as nn "
      ]
    },
    {
      "cell_type": "markdown",
      "source": [
        "# STA 2453 Lab 2 Submission\n",
        "\n",
        "This lab notebook must be completed in the appropriate time during class and invigilated by the instructor. There are  3 parts in this evaluation, you must add both this notebook, and another generated `.py` file to the PR. \n",
        "\n",
        "Once the PR is in place, please tag both me and the TA in it. So in the end you will have two files. \n",
        "\n",
        "- `STA2453-Lab-2.ipynb`\n",
        "- `STA2453-Lab-2.py`\n",
        "\n",
        "Both of these are needed for a good submission. \n",
        "\n"
      ],
      "metadata": {
        "id": "cy8lXz8xHype"
      }
    },
    {
      "cell_type": "markdown",
      "source": [
        "\n",
        "\n",
        "\n",
        "\n",
        "---\n",
        "\n",
        "## Case Study: Modelling Student Survey Results from the University of Catania, Italy.\n",
        "---\n",
        "\n",
        "This data is collected from a survey of 270 students attending a statistics course at the Department of Economics and Business of the University of Catania in the academic year 2011/2012.  It\n",
        "     contains the following variables:\n",
        "\n",
        "- `GENDER` gender of the respondent\n",
        "\n",
        "- `HEIGHT` height of the respondent, measured in centimeters\n",
        "\n",
        "- `WEIGHT` weight of the respondent measure in kilograms. \n",
        "\n",
        "- `HEIGHT.F` height of the respondent's father measured in centimeters. \n",
        "\n",
        "---\n",
        "\n",
        "\n",
        "The dataset can be found here: \n",
        "\n",
        "`https://utstat.utoronto.ca/~pocucan/italian_students.csv`\n",
        "\n"
      ],
      "metadata": {
        "id": "SGEciGvQH7jr"
      }
    },
    {
      "cell_type": "markdown",
      "source": [
        "---\n",
        "\n",
        "## Part 1 Linear Regression \n",
        "---\n",
        "\n",
        "This part of the evaluation considers a linear regression model with an extension into a weighted counterpart.  \n",
        "\n",
        "We wish to assess the viability of this statement:\n",
        "\n",
        "`Can the height of the father predict the height of the child?` \n",
        "\n",
        "Load the dataset into a dataframe called `df`, grab the relevant columns as stated above. \n",
        "\n",
        "Next create two dataframes named `df_m` and `df_f` for male/female respectively. \n",
        "\n",
        "\n"
      ],
      "metadata": {
        "id": "zvZjHQmZJJt1"
      }
    },
    {
      "cell_type": "code",
      "source": [
        "from google.colab import drive\n",
        "drive.mount('/content/drive')"
      ],
      "metadata": {
        "colab": {
          "base_uri": "https://localhost:8080/"
        },
        "id": "8uv-9S_Q4I5n",
        "outputId": "f86b911b-23c1-4dd3-c61d-4e1889bdb733"
      },
      "execution_count": 155,
      "outputs": [
        {
          "output_type": "stream",
          "name": "stdout",
          "text": [
            "Drive already mounted at /content/drive; to attempt to forcibly remount, call drive.mount(\"/content/drive\", force_remount=True).\n"
          ]
        }
      ]
    },
    {
      "cell_type": "code",
      "source": [
        "# load the dataset and segment by reported gender. \n",
        "# load data\n",
        "df = pd.read_csv(\"/content/drive/MyDrive/STA2453/italian_students.csv\")"
      ],
      "metadata": {
        "id": "5gADh3OiHz5v"
      },
      "execution_count": 156,
      "outputs": []
    },
    {
      "cell_type": "code",
      "source": [
        "# just grab the relevant columns \n",
        "df = df[[\"GENDER\", \"HEIGHT\", \"HEIGHT.F\"]]\n",
        "df"
      ],
      "metadata": {
        "colab": {
          "base_uri": "https://localhost:8080/",
          "height": 424
        },
        "id": "v7Uw7XDr4Zr2",
        "outputId": "7dbb649a-314f-4f57-b049-3b73343ec2e5"
      },
      "execution_count": 157,
      "outputs": [
        {
          "output_type": "execute_result",
          "data": {
            "text/plain": [
              "    GENDER  HEIGHT  HEIGHT.F\n",
              "0        M     184       185\n",
              "1        M     186       180\n",
              "2        M     186       182\n",
              "3        M     179       177\n",
              "4        M     175       175\n",
              "..     ...     ...       ...\n",
              "265      F     160       178\n",
              "266      F     160       172\n",
              "267      F     165       174\n",
              "268      F     165       184\n",
              "269      F     165       179\n",
              "\n",
              "[270 rows x 3 columns]"
            ],
            "text/html": [
              "\n",
              "  <div id=\"df-f7d52190-ddb9-438c-8af6-ad620afe7af5\">\n",
              "    <div class=\"colab-df-container\">\n",
              "      <div>\n",
              "<style scoped>\n",
              "    .dataframe tbody tr th:only-of-type {\n",
              "        vertical-align: middle;\n",
              "    }\n",
              "\n",
              "    .dataframe tbody tr th {\n",
              "        vertical-align: top;\n",
              "    }\n",
              "\n",
              "    .dataframe thead th {\n",
              "        text-align: right;\n",
              "    }\n",
              "</style>\n",
              "<table border=\"1\" class=\"dataframe\">\n",
              "  <thead>\n",
              "    <tr style=\"text-align: right;\">\n",
              "      <th></th>\n",
              "      <th>GENDER</th>\n",
              "      <th>HEIGHT</th>\n",
              "      <th>HEIGHT.F</th>\n",
              "    </tr>\n",
              "  </thead>\n",
              "  <tbody>\n",
              "    <tr>\n",
              "      <th>0</th>\n",
              "      <td>M</td>\n",
              "      <td>184</td>\n",
              "      <td>185</td>\n",
              "    </tr>\n",
              "    <tr>\n",
              "      <th>1</th>\n",
              "      <td>M</td>\n",
              "      <td>186</td>\n",
              "      <td>180</td>\n",
              "    </tr>\n",
              "    <tr>\n",
              "      <th>2</th>\n",
              "      <td>M</td>\n",
              "      <td>186</td>\n",
              "      <td>182</td>\n",
              "    </tr>\n",
              "    <tr>\n",
              "      <th>3</th>\n",
              "      <td>M</td>\n",
              "      <td>179</td>\n",
              "      <td>177</td>\n",
              "    </tr>\n",
              "    <tr>\n",
              "      <th>4</th>\n",
              "      <td>M</td>\n",
              "      <td>175</td>\n",
              "      <td>175</td>\n",
              "    </tr>\n",
              "    <tr>\n",
              "      <th>...</th>\n",
              "      <td>...</td>\n",
              "      <td>...</td>\n",
              "      <td>...</td>\n",
              "    </tr>\n",
              "    <tr>\n",
              "      <th>265</th>\n",
              "      <td>F</td>\n",
              "      <td>160</td>\n",
              "      <td>178</td>\n",
              "    </tr>\n",
              "    <tr>\n",
              "      <th>266</th>\n",
              "      <td>F</td>\n",
              "      <td>160</td>\n",
              "      <td>172</td>\n",
              "    </tr>\n",
              "    <tr>\n",
              "      <th>267</th>\n",
              "      <td>F</td>\n",
              "      <td>165</td>\n",
              "      <td>174</td>\n",
              "    </tr>\n",
              "    <tr>\n",
              "      <th>268</th>\n",
              "      <td>F</td>\n",
              "      <td>165</td>\n",
              "      <td>184</td>\n",
              "    </tr>\n",
              "    <tr>\n",
              "      <th>269</th>\n",
              "      <td>F</td>\n",
              "      <td>165</td>\n",
              "      <td>179</td>\n",
              "    </tr>\n",
              "  </tbody>\n",
              "</table>\n",
              "<p>270 rows × 3 columns</p>\n",
              "</div>\n",
              "      <button class=\"colab-df-convert\" onclick=\"convertToInteractive('df-f7d52190-ddb9-438c-8af6-ad620afe7af5')\"\n",
              "              title=\"Convert this dataframe to an interactive table.\"\n",
              "              style=\"display:none;\">\n",
              "        \n",
              "  <svg xmlns=\"http://www.w3.org/2000/svg\" height=\"24px\"viewBox=\"0 0 24 24\"\n",
              "       width=\"24px\">\n",
              "    <path d=\"M0 0h24v24H0V0z\" fill=\"none\"/>\n",
              "    <path d=\"M18.56 5.44l.94 2.06.94-2.06 2.06-.94-2.06-.94-.94-2.06-.94 2.06-2.06.94zm-11 1L8.5 8.5l.94-2.06 2.06-.94-2.06-.94L8.5 2.5l-.94 2.06-2.06.94zm10 10l.94 2.06.94-2.06 2.06-.94-2.06-.94-.94-2.06-.94 2.06-2.06.94z\"/><path d=\"M17.41 7.96l-1.37-1.37c-.4-.4-.92-.59-1.43-.59-.52 0-1.04.2-1.43.59L10.3 9.45l-7.72 7.72c-.78.78-.78 2.05 0 2.83L4 21.41c.39.39.9.59 1.41.59.51 0 1.02-.2 1.41-.59l7.78-7.78 2.81-2.81c.8-.78.8-2.07 0-2.86zM5.41 20L4 18.59l7.72-7.72 1.47 1.35L5.41 20z\"/>\n",
              "  </svg>\n",
              "      </button>\n",
              "      \n",
              "  <style>\n",
              "    .colab-df-container {\n",
              "      display:flex;\n",
              "      flex-wrap:wrap;\n",
              "      gap: 12px;\n",
              "    }\n",
              "\n",
              "    .colab-df-convert {\n",
              "      background-color: #E8F0FE;\n",
              "      border: none;\n",
              "      border-radius: 50%;\n",
              "      cursor: pointer;\n",
              "      display: none;\n",
              "      fill: #1967D2;\n",
              "      height: 32px;\n",
              "      padding: 0 0 0 0;\n",
              "      width: 32px;\n",
              "    }\n",
              "\n",
              "    .colab-df-convert:hover {\n",
              "      background-color: #E2EBFA;\n",
              "      box-shadow: 0px 1px 2px rgba(60, 64, 67, 0.3), 0px 1px 3px 1px rgba(60, 64, 67, 0.15);\n",
              "      fill: #174EA6;\n",
              "    }\n",
              "\n",
              "    [theme=dark] .colab-df-convert {\n",
              "      background-color: #3B4455;\n",
              "      fill: #D2E3FC;\n",
              "    }\n",
              "\n",
              "    [theme=dark] .colab-df-convert:hover {\n",
              "      background-color: #434B5C;\n",
              "      box-shadow: 0px 1px 3px 1px rgba(0, 0, 0, 0.15);\n",
              "      filter: drop-shadow(0px 1px 2px rgba(0, 0, 0, 0.3));\n",
              "      fill: #FFFFFF;\n",
              "    }\n",
              "  </style>\n",
              "\n",
              "      <script>\n",
              "        const buttonEl =\n",
              "          document.querySelector('#df-f7d52190-ddb9-438c-8af6-ad620afe7af5 button.colab-df-convert');\n",
              "        buttonEl.style.display =\n",
              "          google.colab.kernel.accessAllowed ? 'block' : 'none';\n",
              "\n",
              "        async function convertToInteractive(key) {\n",
              "          const element = document.querySelector('#df-f7d52190-ddb9-438c-8af6-ad620afe7af5');\n",
              "          const dataTable =\n",
              "            await google.colab.kernel.invokeFunction('convertToInteractive',\n",
              "                                                     [key], {});\n",
              "          if (!dataTable) return;\n",
              "\n",
              "          const docLinkHtml = 'Like what you see? Visit the ' +\n",
              "            '<a target=\"_blank\" href=https://colab.research.google.com/notebooks/data_table.ipynb>data table notebook</a>'\n",
              "            + ' to learn more about interactive tables.';\n",
              "          element.innerHTML = '';\n",
              "          dataTable['output_type'] = 'display_data';\n",
              "          await google.colab.output.renderOutput(dataTable, element);\n",
              "          const docLink = document.createElement('div');\n",
              "          docLink.innerHTML = docLinkHtml;\n",
              "          element.appendChild(docLink);\n",
              "        }\n",
              "      </script>\n",
              "    </div>\n",
              "  </div>\n",
              "  "
            ]
          },
          "metadata": {},
          "execution_count": 157
        }
      ]
    },
    {
      "cell_type": "code",
      "source": [
        "# check missing values\n",
        "df.isna().sum()"
      ],
      "metadata": {
        "colab": {
          "base_uri": "https://localhost:8080/"
        },
        "id": "7V5B-wVR8qUM",
        "outputId": "39999b4b-6c5f-4421-92ea-61e980f1ae30"
      },
      "execution_count": 158,
      "outputs": [
        {
          "output_type": "execute_result",
          "data": {
            "text/plain": [
              "GENDER      0\n",
              "HEIGHT      0\n",
              "HEIGHT.F    0\n",
              "dtype: int64"
            ]
          },
          "metadata": {},
          "execution_count": 158
        }
      ]
    },
    {
      "cell_type": "code",
      "source": [
        "# segment by gender. \n",
        "df_M = df[ df[\"GENDER\"] ==\"M\" ]\n",
        "df_F = df[ df[\"GENDER\"] ==\"F\" ]"
      ],
      "metadata": {
        "id": "-JX9M7wO5JE5"
      },
      "execution_count": 159,
      "outputs": []
    },
    {
      "cell_type": "code",
      "source": [
        "# plot the data in a pairplot using the seaborn package and title it appropriately. \n",
        "sns.pairplot(df)\n",
        "# give some comments on the structure of the data. "
      ],
      "metadata": {
        "id": "tpU7kBUVPief",
        "colab": {
          "base_uri": "https://localhost:8080/",
          "height": 392
        },
        "outputId": "0d9e52c2-c0d2-4a09-d361-2644569a4a64"
      },
      "execution_count": 160,
      "outputs": [
        {
          "output_type": "execute_result",
          "data": {
            "text/plain": [
              "<seaborn.axisgrid.PairGrid at 0x7f9c10930bd0>"
            ]
          },
          "metadata": {},
          "execution_count": 160
        },
        {
          "output_type": "display_data",
          "data": {
            "text/plain": [
              "<Figure size 360x360 with 6 Axes>"
            ],
            "image/png": "[encoded data removed]"
          },
          "metadata": {
            "needs_background": "light"
          }
        }
      ]
    },
    {
      "cell_type": "markdown",
      "source": [
        "## Comment: \n",
        "The above plot appears to have two different patterns, which might because of the different groups of males and females. The height of a child and the height of his or her father tend to show a positive linear relationship."
      ],
      "metadata": {
        "id": "OW6UAKMJ6Y4H"
      }
    },
    {
      "cell_type": "markdown",
      "source": [
        "Plot the same data in a pairplot using the seaborn package. Title it approprietly, AND, \n",
        "color the points by the GENDER variable. \n",
        "- Females in red \n",
        "- Males in blue\n",
        "\n",
        "Give some comments on the structure of the data. Specifically whether the assumptions for a linear model fit are valid or not. "
      ],
      "metadata": {
        "id": "85krYb6G7kp3"
      }
    },
    {
      "cell_type": "code",
      "source": [
        "# plot the data with respective colours. \n",
        "sns.pairplot(df, hue=\"GENDER\", palette={\"M\": \"blue\", \"F\": \"red\"})"
      ],
      "metadata": {
        "id": "_JT4urmaRUgd",
        "colab": {
          "base_uri": "https://localhost:8080/",
          "height": 392
        },
        "outputId": "eea7e0a5-276e-4599-fe85-db3b87d86885"
      },
      "execution_count": 161,
      "outputs": [
        {
          "output_type": "execute_result",
          "data": {
            "text/plain": [
              "<seaborn.axisgrid.PairGrid at 0x7f9c1074acd0>"
            ]
          },
          "metadata": {},
          "execution_count": 161
        },
        {
          "output_type": "display_data",
          "data": {
            "text/plain": [
              "<Figure size 410.375x360 with 6 Axes>"
            ],
            "image/png": "[encoded data removed]"
          },
          "metadata": {
            "needs_background": "light"
          }
        }
      ]
    },
    {
      "cell_type": "markdown",
      "source": [
        "## Comment: \n",
        "The height of a female and the height of her father tend to show a positive linear relationship.\n",
        "\n",
        "Similarly, the height of a male and the height of his father tend to show a positive linear relationship.\n",
        "\n",
        "Moreover, it is obvious that males mostly tend to be taller than females. "
      ],
      "metadata": {
        "id": "7XZU5FeR7U0t"
      }
    },
    {
      "cell_type": "markdown",
      "source": [
        "Fit a linear model using the following setup: \n",
        "`HEIGHT ~ HEIGHT.F`, ie. can the father's height predict the child's hight. Denote this linear model as \n",
        "`lm_general`, i.e. a linear model for the general dataset. \n",
        "\n",
        "Calculate the MSE of `lm_general`. "
      ],
      "metadata": {
        "id": "XH5L87pV8F4H"
      }
    },
    {
      "cell_type": "code",
      "source": [
        "# declare model. \n",
        "lm_general = LinearRegression()\n",
        "# numpy matrices.\n",
        "X_general = df[['HEIGHT.F']]\n",
        "y_general = df['HEIGHT'] \n",
        "# fit model. \n",
        "lm_general.fit(X_general, y_general)\n",
        "\n",
        "# Prediction.\n",
        "predicted_y_general = lm_general.predict(X_general)\n",
        "\n",
        "# MSE.\n",
        "from sklearn.metrics import mean_squared_error\n",
        "mse_general = mean_squared_error(y_general, predicted_y_general)\n",
        "print(f\"The MSE of lm_general is {mse_general}.\")"
      ],
      "metadata": {
        "id": "6f2UsAcdT4dZ",
        "colab": {
          "base_uri": "https://localhost:8080/"
        },
        "outputId": "84d2fcff-142b-4e46-e3ad-469fa15ae214"
      },
      "execution_count": 162,
      "outputs": [
        {
          "output_type": "stream",
          "name": "stdout",
          "text": [
            "The MSE of lm_general is 81.54862159643423.\n"
          ]
        }
      ]
    },
    {
      "cell_type": "markdown",
      "source": [
        "Fit two linear models using the same setup \n",
        "`HEIGHT ~ HEIGHT.F`, on the dataframes `df_m` and `df_f`, the two segmented by gender populations. \n",
        "\n",
        "You should have two different model objects, name them \n",
        "`lm_male` and `lm_female`. \n",
        "\n",
        "report the aggregate MSE for both models. Ie.\n",
        "- MSE_F\n",
        "- MSE_M  \n",
        "- MSE_AGGREGATE = MSE_F + MSE_M \n",
        "\n",
        "Comment on the difference between the MSE performance of these models vs the previous, general model. \n",
        "\n"
      ],
      "metadata": {
        "id": "sOMK9ing8fWp"
      }
    },
    {
      "cell_type": "code",
      "source": [
        "# declare models for each gender. \n",
        "lm_male = LinearRegression()\n",
        "lm_female = LinearRegression()\n",
        "\n",
        "# fit male\n",
        "# numpy matrices.\n",
        "X_male = df_M[['HEIGHT.F']]\n",
        "y_male = df_M['HEIGHT'] \n",
        "lm_male.fit(X_male, y_male)\n",
        "\n",
        "# fit female \n",
        "# numpy matrices.\n",
        "X_female = df_F[['HEIGHT.F']]\n",
        "y_female = df_F['HEIGHT'] \n",
        "lm_female.fit(X_female, y_female)"
      ],
      "metadata": {
        "id": "vD4J5yTCN43-",
        "colab": {
          "base_uri": "https://localhost:8080/"
        },
        "outputId": "d01fbdc3-10b2-4198-fc29-0801776ed457"
      },
      "execution_count": 163,
      "outputs": [
        {
          "output_type": "execute_result",
          "data": {
            "text/plain": [
              "LinearRegression()"
            ]
          },
          "metadata": {},
          "execution_count": 163
        }
      ]
    },
    {
      "cell_type": "code",
      "source": [
        "# calculate MSE's\n",
        "\n",
        "# Prediction.\n",
        "predicted_y_male = lm_male.predict(X_male)\n",
        "predicted_y_female = lm_female.predict(X_female)\n",
        "\n",
        "# MSE.\n",
        "mse_male = mean_squared_error(y_male, predicted_y_male)\n",
        "print(f\"The MSE of lm_male is {mse_male}.\")\n",
        "\n",
        "mse_female = mean_squared_error(y_female, predicted_y_female)\n",
        "print(f\"The MSE of lm_female is {mse_female}.\")\n",
        "\n",
        "mse_aggregate = mse_male + mse_female\n",
        "print(f\"The aggregate MSE is {mse_aggregate}.\")\n",
        "# comment on results. "
      ],
      "metadata": {
        "id": "xYcq3CFEOXfz",
        "colab": {
          "base_uri": "https://localhost:8080/"
        },
        "outputId": "18c183de-88b1-4922-b6db-6ae32fc6dcaf"
      },
      "execution_count": 164,
      "outputs": [
        {
          "output_type": "stream",
          "name": "stdout",
          "text": [
            "The MSE of lm_male is 11.312106388928369.\n",
            "The MSE of lm_female is 15.337041297553613.\n",
            "The aggregate MSE is 26.64914768648198.\n"
          ]
        }
      ]
    },
    {
      "cell_type": "markdown",
      "source": [
        "## Comment\n",
        "The MSE of lm_female is greater than the MSE of lm_male.\n",
        "\n",
        "The aggregate MSE of the two linear models for two segmented by gender populations is much smaller than the previuos general model. This implies that the male and female groups might have different variations and distributions for height."
      ],
      "metadata": {
        "id": "eAnHOA-XAaSE"
      }
    },
    {
      "cell_type": "markdown",
      "source": [
        "Render a scatter plot of `x=HEIGHT.F` and `y=HEIGHT` in grey points. \n",
        "\n",
        "- Plot the predicted fits of the `lm_general` model in black. (Black line)\n",
        "- Plot the predictive fits of the `lm_male` model in blue. (Blue line)\n",
        "- Plot the predictive fits of the `lm_female` model in red. (Red line) \n",
        "\n",
        "All superimposed on the same plot. So the plot should have grey points, one black line, one red line, and one blue line. Title it appropriately. \n",
        "\n",
        "Comment on how/why segmentation improves the model fit. Be sure to address the assumptions of a linear regression model. "
      ],
      "metadata": {
        "id": "1s2I_a8MW6wA"
      }
    },
    {
      "cell_type": "code",
      "source": [
        "# y_hat\n",
        "df[\"y_hat\"] = predicted_y_general\n",
        "df_M[\"y_hat\"] = predicted_y_male\n",
        "df_F[\"y_hat\"] = predicted_y_female"
      ],
      "metadata": {
        "colab": {
          "base_uri": "https://localhost:8080/"
        },
        "id": "zaptIDQxBoT_",
        "outputId": "2868b43f-bf4c-4f56-a07d-c23ba65c0704"
      },
      "execution_count": 165,
      "outputs": [
        {
          "output_type": "stream",
          "name": "stderr",
          "text": [
            "/usr/local/lib/python3.7/dist-packages/ipykernel_launcher.py:3: SettingWithCopyWarning: \n",
            "A value is trying to be set on a copy of a slice from a DataFrame.\n",
            "Try using .loc[row_indexer,col_indexer] = value instead\n",
            "\n",
            "See the caveats in the documentation: https://pandas.pydata.org/pandas-docs/stable/user_guide/indexing.html#returning-a-view-versus-a-copy\n",
            "  This is separate from the ipykernel package so we can avoid doing imports until\n",
            "/usr/local/lib/python3.7/dist-packages/ipykernel_launcher.py:4: SettingWithCopyWarning: \n",
            "A value is trying to be set on a copy of a slice from a DataFrame.\n",
            "Try using .loc[row_indexer,col_indexer] = value instead\n",
            "\n",
            "See the caveats in the documentation: https://pandas.pydata.org/pandas-docs/stable/user_guide/indexing.html#returning-a-view-versus-a-copy\n",
            "  after removing the cwd from sys.path.\n"
          ]
        }
      ]
    },
    {
      "cell_type": "code",
      "source": [
        "# Plot the fits of the lm models, you need three lines, one blue, one black, and one red.  \n",
        "# points are in grey.  \n",
        "sns.scatterplot(x = df[\"HEIGHT.F\"], y=df[\"HEIGHT\"], color = 'grey', s = 5.0).set(title=\"Fitted lines for Child's height vs. Father's height for males and females groups\")\n",
        "\n",
        "# add fitted lines\n",
        "sns.lineplot(x = df[\"HEIGHT.F\"], \n",
        "                y = df[\"y_hat\"], \n",
        "                color = \"black\")\n",
        "sns.lineplot(x = df_M[\"HEIGHT.F\"], \n",
        "                y = df_M[\"y_hat\"], \n",
        "                color = \"blue\")\n",
        "sns.lineplot(x = df_F[\"HEIGHT.F\"], \n",
        "                y = df_F[\"y_hat\"], \n",
        "                color = \"red\")\n",
        "\n",
        "plt.legend(labels=[\"general\",\"male\", \"female\"])\n",
        "# don't forget to title it correctly! "
      ],
      "metadata": {
        "id": "cA5q3GOocaML",
        "colab": {
          "base_uri": "https://localhost:8080/",
          "height": 313
        },
        "outputId": "e957fb2a-d77e-4417-ed35-849b81dda037"
      },
      "execution_count": 166,
      "outputs": [
        {
          "output_type": "execute_result",
          "data": {
            "text/plain": [
              "<matplotlib.legend.Legend at 0x7f9c11449750>"
            ]
          },
          "metadata": {},
          "execution_count": 166
        },
        {
          "output_type": "display_data",
          "data": {
            "text/plain": [
              "<Figure size 432x288 with 1 Axes>"
            ],
            "image/png": "[encoded data removed]"
          },
          "metadata": {
            "needs_background": "light"
          }
        }
      ]
    },
    {
      "cell_type": "markdown",
      "source": [
        "# Comment"
      ],
      "metadata": {
        "id": "mReer1t7CYjE"
      }
    },
    {
      "cell_type": "markdown",
      "source": [
        "---\n",
        "# Part 2 Logistic and Weighted Linear Regression \n",
        "---\n",
        "\n",
        "Fit a logistic regression model predicting gender as `GENDER ~ WEIGHT`, name it `lm_logreg`. \n",
        "\n",
        "Render a scatter plot with the `x=HEIGHT.F`, `y=HEIGHT` with the points colored by the predicted gender of the `lm_logreg` model. \n",
        "- Females in red. \n",
        "- Males in blue. \n",
        "\n",
        "Using the visual, comment on the performance of the logistic regression to segment populations. Use one of subplots for the pairplot in Part 1 to justify the performance of the model. "
      ],
      "metadata": {
        "id": "riyuCnIZ9vkB"
      }
    },
    {
      "cell_type": "code",
      "source": [
        "# do a logistic model predicting GENDER \n",
        "# load data\n",
        "df_2 = pd.read_csv(\"/content/drive/MyDrive/STA2453/italian_students.csv\")"
      ],
      "metadata": {
        "id": "zFGPBL0nd2nn"
      },
      "execution_count": 167,
      "outputs": []
    },
    {
      "cell_type": "code",
      "source": [
        "df_2"
      ],
      "metadata": {
        "colab": {
          "base_uri": "https://localhost:8080/",
          "height": 424
        },
        "id": "iUJMAr6plo3X",
        "outputId": "8527ca3d-9d4e-464d-806e-c1a7d7d88093"
      },
      "execution_count": 168,
      "outputs": [
        {
          "output_type": "execute_result",
          "data": {
            "text/plain": [
              "     Unnamed: 0 GENDER  HEIGHT  WEIGHT  HEIGHT.F\n",
              "0             1      M     184      82       185\n",
              "1             2      M     186      83       180\n",
              "2             3      M     186      88       182\n",
              "3             4      M     179      74       177\n",
              "4             5      M     175      68       175\n",
              "..          ...    ...     ...     ...       ...\n",
              "265         266      F     160      57       178\n",
              "266         267      F     160      48       172\n",
              "267         268      F     165      87       174\n",
              "268         269      F     165      63       184\n",
              "269         270      F     165      72       179\n",
              "\n",
              "[270 rows x 5 columns]"
            ],
            "text/html": [
              "\n",
              "  <div id=\"df-7a7ccf0f-998d-49ea-b431-3ba5d110c9e4\">\n",
              "    <div class=\"colab-df-container\">\n",
              "      <div>\n",
              "<style scoped>\n",
              "    .dataframe tbody tr th:only-of-type {\n",
              "        vertical-align: middle;\n",
              "    }\n",
              "\n",
              "    .dataframe tbody tr th {\n",
              "        vertical-align: top;\n",
              "    }\n",
              "\n",
              "    .dataframe thead th {\n",
              "        text-align: right;\n",
              "    }\n",
              "</style>\n",
              "<table border=\"1\" class=\"dataframe\">\n",
              "  <thead>\n",
              "    <tr style=\"text-align: right;\">\n",
              "      <th></th>\n",
              "      <th>Unnamed: 0</th>\n",
              "      <th>GENDER</th>\n",
              "      <th>HEIGHT</th>\n",
              "      <th>WEIGHT</th>\n",
              "      <th>HEIGHT.F</th>\n",
              "    </tr>\n",
              "  </thead>\n",
              "  <tbody>\n",
              "    <tr>\n",
              "      <th>0</th>\n",
              "      <td>1</td>\n",
              "      <td>M</td>\n",
              "      <td>184</td>\n",
              "      <td>82</td>\n",
              "      <td>185</td>\n",
              "    </tr>\n",
              "    <tr>\n",
              "      <th>1</th>\n",
              "      <td>2</td>\n",
              "      <td>M</td>\n",
              "      <td>186</td>\n",
              "      <td>83</td>\n",
              "      <td>180</td>\n",
              "    </tr>\n",
              "    <tr>\n",
              "      <th>2</th>\n",
              "      <td>3</td>\n",
              "      <td>M</td>\n",
              "      <td>186</td>\n",
              "      <td>88</td>\n",
              "      <td>182</td>\n",
              "    </tr>\n",
              "    <tr>\n",
              "      <th>3</th>\n",
              "      <td>4</td>\n",
              "      <td>M</td>\n",
              "      <td>179</td>\n",
              "      <td>74</td>\n",
              "      <td>177</td>\n",
              "    </tr>\n",
              "    <tr>\n",
              "      <th>4</th>\n",
              "      <td>5</td>\n",
              "      <td>M</td>\n",
              "      <td>175</td>\n",
              "      <td>68</td>\n",
              "      <td>175</td>\n",
              "    </tr>\n",
              "    <tr>\n",
              "      <th>...</th>\n",
              "      <td>...</td>\n",
              "      <td>...</td>\n",
              "      <td>...</td>\n",
              "      <td>...</td>\n",
              "      <td>...</td>\n",
              "    </tr>\n",
              "    <tr>\n",
              "      <th>265</th>\n",
              "      <td>266</td>\n",
              "      <td>F</td>\n",
              "      <td>160</td>\n",
              "      <td>57</td>\n",
              "      <td>178</td>\n",
              "    </tr>\n",
              "    <tr>\n",
              "      <th>266</th>\n",
              "      <td>267</td>\n",
              "      <td>F</td>\n",
              "      <td>160</td>\n",
              "      <td>48</td>\n",
              "      <td>172</td>\n",
              "    </tr>\n",
              "    <tr>\n",
              "      <th>267</th>\n",
              "      <td>268</td>\n",
              "      <td>F</td>\n",
              "      <td>165</td>\n",
              "      <td>87</td>\n",
              "      <td>174</td>\n",
              "    </tr>\n",
              "    <tr>\n",
              "      <th>268</th>\n",
              "      <td>269</td>\n",
              "      <td>F</td>\n",
              "      <td>165</td>\n",
              "      <td>63</td>\n",
              "      <td>184</td>\n",
              "    </tr>\n",
              "    <tr>\n",
              "      <th>269</th>\n",
              "      <td>270</td>\n",
              "      <td>F</td>\n",
              "      <td>165</td>\n",
              "      <td>72</td>\n",
              "      <td>179</td>\n",
              "    </tr>\n",
              "  </tbody>\n",
              "</table>\n",
              "<p>270 rows × 5 columns</p>\n",
              "</div>\n",
              "      <button class=\"colab-df-convert\" onclick=\"convertToInteractive('df-7a7ccf0f-998d-49ea-b431-3ba5d110c9e4')\"\n",
              "              title=\"Convert this dataframe to an interactive table.\"\n",
              "              style=\"display:none;\">\n",
              "        \n",
              "  <svg xmlns=\"http://www.w3.org/2000/svg\" height=\"24px\"viewBox=\"0 0 24 24\"\n",
              "       width=\"24px\">\n",
              "    <path d=\"M0 0h24v24H0V0z\" fill=\"none\"/>\n",
              "    <path d=\"M18.56 5.44l.94 2.06.94-2.06 2.06-.94-2.06-.94-.94-2.06-.94 2.06-2.06.94zm-11 1L8.5 8.5l.94-2.06 2.06-.94-2.06-.94L8.5 2.5l-.94 2.06-2.06.94zm10 10l.94 2.06.94-2.06 2.06-.94-2.06-.94-.94-2.06-.94 2.06-2.06.94z\"/><path d=\"M17.41 7.96l-1.37-1.37c-.4-.4-.92-.59-1.43-.59-.52 0-1.04.2-1.43.59L10.3 9.45l-7.72 7.72c-.78.78-.78 2.05 0 2.83L4 21.41c.39.39.9.59 1.41.59.51 0 1.02-.2 1.41-.59l7.78-7.78 2.81-2.81c.8-.78.8-2.07 0-2.86zM5.41 20L4 18.59l7.72-7.72 1.47 1.35L5.41 20z\"/>\n",
              "  </svg>\n",
              "      </button>\n",
              "      \n",
              "  <style>\n",
              "    .colab-df-container {\n",
              "      display:flex;\n",
              "      flex-wrap:wrap;\n",
              "      gap: 12px;\n",
              "    }\n",
              "\n",
              "    .colab-df-convert {\n",
              "      background-color: #E8F0FE;\n",
              "      border: none;\n",
              "      border-radius: 50%;\n",
              "      cursor: pointer;\n",
              "      display: none;\n",
              "      fill: #1967D2;\n",
              "      height: 32px;\n",
              "      padding: 0 0 0 0;\n",
              "      width: 32px;\n",
              "    }\n",
              "\n",
              "    .colab-df-convert:hover {\n",
              "      background-color: #E2EBFA;\n",
              "      box-shadow: 0px 1px 2px rgba(60, 64, 67, 0.3), 0px 1px 3px 1px rgba(60, 64, 67, 0.15);\n",
              "      fill: #174EA6;\n",
              "    }\n",
              "\n",
              "    [theme=dark] .colab-df-convert {\n",
              "      background-color: #3B4455;\n",
              "      fill: #D2E3FC;\n",
              "    }\n",
              "\n",
              "    [theme=dark] .colab-df-convert:hover {\n",
              "      background-color: #434B5C;\n",
              "      box-shadow: 0px 1px 3px 1px rgba(0, 0, 0, 0.15);\n",
              "      filter: drop-shadow(0px 1px 2px rgba(0, 0, 0, 0.3));\n",
              "      fill: #FFFFFF;\n",
              "    }\n",
              "  </style>\n",
              "\n",
              "      <script>\n",
              "        const buttonEl =\n",
              "          document.querySelector('#df-7a7ccf0f-998d-49ea-b431-3ba5d110c9e4 button.colab-df-convert');\n",
              "        buttonEl.style.display =\n",
              "          google.colab.kernel.accessAllowed ? 'block' : 'none';\n",
              "\n",
              "        async function convertToInteractive(key) {\n",
              "          const element = document.querySelector('#df-7a7ccf0f-998d-49ea-b431-3ba5d110c9e4');\n",
              "          const dataTable =\n",
              "            await google.colab.kernel.invokeFunction('convertToInteractive',\n",
              "                                                     [key], {});\n",
              "          if (!dataTable) return;\n",
              "\n",
              "          const docLinkHtml = 'Like what you see? Visit the ' +\n",
              "            '<a target=\"_blank\" href=https://colab.research.google.com/notebooks/data_table.ipynb>data table notebook</a>'\n",
              "            + ' to learn more about interactive tables.';\n",
              "          element.innerHTML = '';\n",
              "          dataTable['output_type'] = 'display_data';\n",
              "          await google.colab.output.renderOutput(dataTable, element);\n",
              "          const docLink = document.createElement('div');\n",
              "          docLink.innerHTML = docLinkHtml;\n",
              "          element.appendChild(docLink);\n",
              "        }\n",
              "      </script>\n",
              "    </div>\n",
              "  </div>\n",
              "  "
            ]
          },
          "metadata": {},
          "execution_count": 168
        }
      ]
    },
    {
      "cell_type": "code",
      "source": [
        "# Convert GENDER from \"M\" to 1 and \"F\" to 0\n",
        "# df_2['GENDER'].replace(['M', 'F'], [1, 0], inplace=True)\n",
        "\n",
        "X_log = df_2[[\"WEIGHT\"]]\n",
        "y_log = df_2[\"GENDER\"]\n",
        "\n",
        "lm_logreg = LogisticRegression()\n",
        "lm_logreg.fit(X_log, y_log)\n",
        "# predict class. \n",
        "df_2['predicted_gender'] = lm_logreg.predict(X_log)"
      ],
      "metadata": {
        "id": "kNwfPXPSlG_r"
      },
      "execution_count": 169,
      "outputs": []
    },
    {
      "cell_type": "code",
      "source": [
        "# plot scatter plot with logistic regression labels by color. \n",
        "sns.scatterplot(x = df_2[\"HEIGHT.F\"], y=df_2[\"HEIGHT\"], hue = df_2[\"predicted_gender\"], palette=[\"blue\", \"red\"], s = 5.0).set(title=\"Child's Height vs. Father's Height labeled by predicted gender\")\n",
        "# comment on the results. "
      ],
      "metadata": {
        "id": "szXFRst0fFq8",
        "colab": {
          "base_uri": "https://localhost:8080/",
          "height": 313
        },
        "outputId": "b06ad362-7f58-45db-cd31-5f5bc2d54bf2"
      },
      "execution_count": 170,
      "outputs": [
        {
          "output_type": "execute_result",
          "data": {
            "text/plain": [
              "[Text(0.5, 1.0, \"Child's Height vs. Father's Height labeled by predicted gender\")]"
            ]
          },
          "metadata": {},
          "execution_count": 170
        },
        {
          "output_type": "display_data",
          "data": {
            "text/plain": [
              "<Figure size 432x288 with 1 Axes>"
            ],
            "image/png": "[encoded data removed]"
          },
          "metadata": {
            "needs_background": "light"
          }
        }
      ]
    },
    {
      "cell_type": "markdown",
      "source": [
        "## Comment\n",
        "Compared to the scatter plot of Child's height vs. Father's height color-labeled by gender in part one, this plot shows there are some wrongly predicted labels, which means the performance of this logistic model is not very good."
      ],
      "metadata": {
        "id": "AKie0s8Prz6H"
      }
    },
    {
      "cell_type": "markdown",
      "source": [
        "Acquire the probabilities from the logistic regression model, denote the probability matrix `Z`. The matrix should be `(270,2)` in shape, each entry denoting the probability for each observation `i` belonging to group `g`. ie. `z_ig`. \n",
        "\n",
        "For each column, create two weighted linear regression models denoted as `lm_female_weighted` and `lm_male_weighted`."
      ],
      "metadata": {
        "id": "Ly7lf2qS-wCo"
      }
    },
    {
      "cell_type": "code",
      "source": [
        "# calculate the weights of a logistic model, then use them for a weighted regression. \n",
        "Z = lm_logreg.predict_proba(X_log)\n",
        "weights_1 = Z[:, 0]\n",
        "weights_2 = Z[:, 1]\n",
        "# declare the weighted models. \n",
        "# Fit a weighted linear regression model.\n",
        "lm_female_weighted = LinearRegression() \n",
        "lm_male_weighted = LinearRegression() \n",
        "# fit the models. \n",
        "# numpy matrices.\n",
        "X = df_2[['HEIGHT.F']]\n",
        "y= df_2['HEIGHT'] \n",
        "lm_female_weighted.fit(X, y, sample_weight = weights_1)\n",
        "lm_male_weighted.fit(X, y, sample_weight = weights_2)"
      ],
      "metadata": {
        "id": "lZJnY8sPfhoz",
        "colab": {
          "base_uri": "https://localhost:8080/"
        },
        "outputId": "92bfaafe-71ea-4403-9f10-fe358ab4b46e"
      },
      "execution_count": 171,
      "outputs": [
        {
          "output_type": "execute_result",
          "data": {
            "text/plain": [
              "LinearRegression()"
            ]
          },
          "metadata": {},
          "execution_count": 171
        }
      ]
    },
    {
      "cell_type": "markdown",
      "source": [
        "Plot the data points in grey, plot the predicted fits of the general population for each linear model. \n",
        "\n",
        "- `lm_male_weighted` prediction in blue (blue line)\n",
        "- `lm_female_weighted` prediction in red (red line)\n",
        "\n",
        "Title it appropriately and comment on the weighted model fits compared to the `lm_general` model. "
      ],
      "metadata": {
        "id": "EqNCgXqOAUj9"
      }
    },
    {
      "cell_type": "code",
      "source": [
        "# Plot the fits of the lm models. \n",
        "def plot_fitted_line(df, y_hat, color): \n",
        "  \"\"\"\n",
        "  Helper function for plotting predicted line.\n",
        "  \"\"\"\n",
        "  df_copy = df.copy()\n",
        "  df_copy[\"y_hat\"] = y_hat \n",
        "  sns.lineplot(x = df_2[\"HEIGHT.F\"], \n",
        "              y = df_copy[\"y_hat\"], \n",
        "              color = color)\n",
        "  \n",
        "# Plot the original data.\n",
        "sns.scatterplot(x = df_2[\"HEIGHT.F\"], y=df_2[\"HEIGHT\"], color = 'grey', s = 5.0).set(title=\"Fitted lines for Child's height vs. Father's height for males and females groups\")\n",
        "\n",
        "# Prediction.\n",
        "lm_female_weighted_y_hat = lm_female_weighted.predict(X)\n",
        "lm_male_weighted_y_hat = lm_male_weighted.predict(X)\n",
        "\n",
        "# Plot the fitted lines.\n",
        "plot_fitted_line(df_2, lm_male_weighted_y_hat, \"blue\")\n",
        "plot_fitted_line(df_2, lm_female_weighted_y_hat, \"red\")\n",
        "\n",
        "\n",
        "plt.legend(labels=[\"male\", \"female\"])\n",
        "# comment on the results of the weighted linear regression. "
      ],
      "metadata": {
        "id": "0IM6yXO_hpkW",
        "colab": {
          "base_uri": "https://localhost:8080/",
          "height": 313
        },
        "outputId": "472cb3fa-cdec-49bc-94d7-2f7b8699e061"
      },
      "execution_count": 172,
      "outputs": [
        {
          "output_type": "execute_result",
          "data": {
            "text/plain": [
              "<matplotlib.legend.Legend at 0x7f9c1132b3d0>"
            ]
          },
          "metadata": {},
          "execution_count": 172
        },
        {
          "output_type": "display_data",
          "data": {
            "text/plain": [
              "<Figure size 432x288 with 1 Axes>"
            ],
            "image/png": "[encoded data removed]"
          },
          "metadata": {
            "needs_background": "light"
          }
        }
      ]
    },
    {
      "cell_type": "markdown",
      "source": [
        "---\n",
        "## Part 3: Finite Mixture Modelling \n",
        "---\n",
        "\n",
        "Fit an appropriate finite mixture model to the dataset. Determine the optimal number of components `G` using BIC.\n",
        "\n",
        "To achieve a 4 you must appropriately model both the conditional distribution of `HEIGHT ~ HEIGHT.F` and the covariate distribution for `HEIGHT.F` within the context of a finite mixture model. "
      ],
      "metadata": {
        "id": "dcBzPoNupw5w"
      }
    },
    {
      "cell_type": "code",
      "source": [
        "class FiniteLinearModel(nn.Module):\n",
        "  \"\"\"\n",
        "  Class for Finite mixtures of Linear models.\n",
        "  \"\"\"\n",
        "\n",
        "  def __init__(self, G: int, data: torch.Tensor, seed: int):\n",
        "    \"\"\"\n",
        "    Constructor class for finite mixtures of linear models.\n",
        "    G: total number of groups.\n",
        "    \"\"\"\n",
        "\n",
        "    if not isinstance(data, torch.Tensor):\n",
        "        raise Exception(\"data is not of torch.Tensor type\")\n",
        "\n",
        "    super(FiniteLinearModel, self).__init__()\n",
        "\n",
        "    # define constants.\n",
        "    self.n = data.shape[0]  # number of observations\n",
        "    self.G = G if G > 0 else exec(\"raise Exception('G has to be valid')\")  # number of groups\n",
        "\n",
        "    # define data\n",
        "    self.X = data[:, 1:]  # self.X = df['dens']\n",
        "    # add ones column\n",
        "    self.X = torch.concat((self.X, torch.ones(self.n, 1)), axis=1)\n",
        "    self.y = data[:, 0]  # self.y = df['y_log']\n",
        "\n",
        "    # first column is y, the rest are covariates.\n",
        "    self.p = self.X.shape[1]  # self.p=2, 'dens' and ones\n",
        "\n",
        "    # Set random seed for all torch use.\n",
        "    torch.manual_seed(seed)\n",
        "    torch.cuda.manual_seed(seed)\n",
        "    torch.cuda.manual_seed_all(seed)\n",
        "    np.random.seed(seed)\n",
        "    random.seed(seed)\n",
        "    torch.backends.cudnn.benchmark = False\n",
        "    torch.backends.cudnn.deterministic = True\n",
        "\n",
        "    # Randomly initialize parameters.\n",
        "    self.pi = torch.rand(self.G, 1)  # define mixing proportion pi_g for each group \n",
        "    self.z = torch.rand(self.n, self.G)  # define membership weight z_ig for each observation\n",
        "    self.beta = torch.rand(self.G, self.p)  # estimated coefficients for weighted linear regression; dens -> y_log\n",
        "    # each group follows a different Gaussian distribution\n",
        "    # -> different mu's and sigma's for each group\n",
        "    self.mu = torch.rand(self.G, 1)\n",
        "    self.sigma = torch.rand(self.G, 1).abs()\n",
        "\n",
        "    self.leading_constants = - 0.5 * torch.Tensor([2.0 * torch.pi]).log()  # log(sqrt(2pi))\n",
        "\n",
        "  def log_density(self) -> torch.Tensor:\n",
        "    \"\"\"\n",
        "    Take in a covariate dataset X, and sample y.\n",
        "    Use X to estimate mu; mu_g = y_hat predicted by the fitted weighted linear regression.\n",
        "    Compute an (n x G) matrix of log Gaussian densities.\n",
        "    \"\"\"\n",
        "\n",
        "    # Calculate log density matrix n x G.\n",
        "    log_dens = torch.zeros(self.n, self.G)\n",
        "\n",
        "    # Loop through the groups.\n",
        "    for g in range(self.G):\n",
        "\n",
        "        # Estimate mu by the fitted weighted linear regression.\n",
        "        estimated_mu = (self.beta[g] * self.X).sum(-1)\n",
        "\n",
        "        # Compute exponential terms.\n",
        "        exp_terms = - 0.5 * ((self.y - estimated_mu) / self.sigma[g]).pow(2)\n",
        "        \n",
        "        # Add each log component.\n",
        "        log_dens[:, g] = exp_terms + self.leading_constants\n",
        "        log_dens[:, g] += - self.sigma[g].log()\n",
        "\n",
        "    return log_dens\n",
        "\n",
        "  def Estep(self):\n",
        "    \"\"\"\n",
        "    Computes the expectation step using parameters for X ,y.\n",
        "    \"\"\"\n",
        "    dens = self.log_density().exp()  # density matrix n x G\n",
        "\n",
        "    numerator = dens * self.pi.T  # multiply by mixing proportion pi_g for each group\n",
        "\n",
        "    denominator = numerator.sum(-1).unsqueeze(-1)\n",
        "  \n",
        "    # update the membership weight z_ig\n",
        "    self.z = dens / denominator\n",
        "\n",
        "  def Mstep(self):\n",
        "    \"\"\"\n",
        "    Use the membership weights and the data to calculate new parameter values.\n",
        "    \"\"\"\n",
        "    # the sum of the membership weights for the gth group\n",
        "    n_g = self.z.sum(dim = 0)\n",
        "\n",
        "    # mixing proportion pi_g for each group\n",
        "    self.pi = n_g / self.n\n",
        "\n",
        "    # Fit a weighted linear regression model for each group g to eatimate u_g and sigma_g.\n",
        "    for g in range(self.G):\n",
        "      z_g = self.z[:, g]\n",
        "      weighted_lm = LinearRegression()\n",
        "      weighted_lm.fit(self.X, self.y, sample_weight = z_g)\n",
        "      # update coefficients\n",
        "      self.beta[g, :] = torch.Tensor(weighted_lm.coef_) \n",
        "      # use the fitted weighted linear regression to estimate u_g\n",
        "      predicted_mu = weighted_lm.predict(self.X)\n",
        "      # update u_g\n",
        "      self.mu[g] = torch.sum(torch.Tensor(predicted_mu)) / n_g[g]\n",
        "      # update sigma_g\n",
        "      self.sigma[g] = torch.sqrt(torch.sum(z_g * (self.y - self.mu[g])**2) / n_g[g])\n",
        "  \n",
        "  def objective_fn(self):      \n",
        "    # Compute the density matrix n x G. \n",
        "    dens = self.log_density().exp()\n",
        "\n",
        "    obj_func = -((dens * self.z).sum(-1).log()).sum() \n",
        "    \n",
        "    return obj_func\n",
        "  \n",
        "  def BIC(self):\n",
        "    \"\"\"\n",
        "    Calculate the Bayesian Information Criterion for model performance comparisons.\n",
        "    \"\"\"\n",
        "    # Calculate the number of parameters. \n",
        "    rho = self.mu.numel() + self.sigma.numel() + self.z.numel()\n",
        "    # Calculate BIC.\n",
        "    bic = self.objective_fn() * (-2.0) - rho * m.log(self.y.shape[0])\n",
        "\n",
        "    return float(bic.detach()) \n",
        "  \n",
        "  def train(self, max_iterations):\n",
        "    \"\"\"\n",
        "    Run the EM algorithm to predict the labels for each observation.\n",
        "    \"\"\"\n",
        "    for i in range(max_iterations + 1):\n",
        "      self.Estep()\n",
        "      self.Mstep()\n",
        "      \n",
        "      # Label each observation by the greatest weight.\n",
        "      predict_label = torch.argmax(self.z, dim=1) + 1  \n",
        "      # Transform labels into a numpy.array.\n",
        "      predict_label = predict_label.detach().numpy().astype(int)\n",
        "\n",
        "      # Check membership sizes and BIC for every 100 iterations.\n",
        "      if i % 100 == 0:\n",
        "        print(f\"Membership sizes for the {i+1}th iteration:\")\n",
        "        print(pd.Series(predict_label).value_counts())  \n",
        "        print(f\"BIC for the {i+1}th iteration: {self.BIC()}\") \n",
        "        print(\"\\n\")\n",
        "        \n",
        "    return predict_label "
      ],
      "metadata": {
        "id": "azFNHIX7i6Io"
      },
      "execution_count": 173,
      "outputs": []
    },
    {
      "cell_type": "markdown",
      "source": [
        "### Plot Mixture Model Results \n",
        "\n",
        "Acquire the labels of the model by taking the maximum of the a-posteriori. (MAP) Render a scatter plot of \n",
        "`x=HEIGHT.F`, `y=HEIGHT`, with the colors being the labels given by the MAP's. \n",
        "\n",
        "- Males should be colored in blue.\n",
        "- Females should be colored in red. \n",
        "\n",
        "comment on the ability of the finite mixture model to segment the population in an unsupervised manner. "
      ],
      "metadata": {
        "id": "bN81mKilFxv4"
      }
    },
    {
      "cell_type": "code",
      "source": [
        "# Tranform the data set into a tensor.\n",
        "data_df = df_2.copy()\n",
        "data_s = data_df[['HEIGHT','HEIGHT.F']].to_numpy()\n",
        "data_s = torch.Tensor(data_s)\n",
        "\n",
        "# Normalize the data.\n",
        "data_s = (data_s - data_s.mean())/data_s.std()  \n",
        "\n",
        "# Define GMM model. \n",
        "G = 2\n",
        "seed = 101  # Set random seed.\n",
        "flm = FiniteLinearModel(G=G, data=data_s, seed = seed)\n",
        "\n",
        "# Train the GMM model by EM alorithm.\n",
        "num_iterations = 5000  # Set number of iterations.\n",
        "\n",
        "# get MAP labels.\n",
        "labels = flm.train(num_iterations)\n",
        "\n",
        "# Transform data_s into a pd dataframe\n",
        "data_s = pd.DataFrame(data_s.detach().numpy())\n",
        "data_s['label'] = labels\n",
        "data_s.columns = ['HEIGHT', 'HEIGHT.F', 'label']\n",
        "data_s['label'].replace([1, 2], ['F', 'M'], inplace=True)\n",
        "\n",
        "# declare colours and plot HEIGHT.F vs HEIGHT. \n",
        "# Plot the dataset colored by the assigned labels of the fitted mixture model.\n",
        "sns.scatterplot(data=data_s, x='HEIGHT.F', y='HEIGHT', hue=\"label\", palette = ['blue', 'red'], s = 5).set(title=\"Plot the dataset colored by the assigned labels of the fitted mixture model\")"
      ],
      "metadata": {
        "id": "1bB1jDD0rMdb",
        "colab": {
          "base_uri": "https://localhost:8080/",
          "height": 1000
        },
        "outputId": "f3470cb4-09d9-4ed4-dedd-ed6c8cbb09fc"
      },
      "execution_count": 174,
      "outputs": [
        {
          "output_type": "stream",
          "name": "stdout",
          "text": [
            "Membership sizes for the 1th iteration:\n",
            "2    203\n",
            "1     67\n",
            "dtype: int64\n",
            "BIC for the 1th iteration: -3243.578125\n",
            "\n",
            "\n",
            "Membership sizes for the 101th iteration:\n",
            "2    211\n",
            "1     59\n",
            "dtype: int64\n",
            "BIC for the 101th iteration: -3586.5810546875\n",
            "\n",
            "\n",
            "Membership sizes for the 201th iteration:\n",
            "1    204\n",
            "2     66\n",
            "dtype: int64\n",
            "BIC for the 201th iteration: -3292.670654296875\n",
            "\n",
            "\n",
            "Membership sizes for the 301th iteration:\n",
            "2    154\n",
            "1    116\n",
            "dtype: int64\n",
            "BIC for the 301th iteration: -3323.509521484375\n",
            "\n",
            "\n",
            "Membership sizes for the 401th iteration:\n",
            "2    150\n",
            "1    120\n",
            "dtype: int64\n",
            "BIC for the 401th iteration: -3447.101318359375\n",
            "\n",
            "\n",
            "Membership sizes for the 501th iteration:\n",
            "2    161\n",
            "1    109\n",
            "dtype: int64\n",
            "BIC for the 501th iteration: -3484.293701171875\n",
            "\n",
            "\n",
            "Membership sizes for the 601th iteration:\n",
            "1    204\n",
            "2     66\n",
            "dtype: int64\n",
            "BIC for the 601th iteration: -3475.692138671875\n",
            "\n",
            "\n",
            "Membership sizes for the 701th iteration:\n",
            "2    154\n",
            "1    116\n",
            "dtype: int64\n",
            "BIC for the 701th iteration: -3476.493408203125\n",
            "\n",
            "\n",
            "Membership sizes for the 801th iteration:\n",
            "1    138\n",
            "2    132\n",
            "dtype: int64\n",
            "BIC for the 801th iteration: -3735.2861328125\n",
            "\n",
            "\n",
            "Membership sizes for the 901th iteration:\n",
            "2    161\n",
            "1    109\n",
            "dtype: int64\n",
            "BIC for the 901th iteration: -3379.5478515625\n",
            "\n",
            "\n",
            "Membership sizes for the 1001th iteration:\n",
            "1    148\n",
            "2    122\n",
            "dtype: int64\n",
            "BIC for the 1001th iteration: -3462.5771484375\n",
            "\n",
            "\n",
            "Membership sizes for the 1101th iteration:\n",
            "2    136\n",
            "1    134\n",
            "dtype: int64\n",
            "BIC for the 1101th iteration: -3593.85205078125\n",
            "\n",
            "\n",
            "Membership sizes for the 1201th iteration:\n",
            "2    213\n",
            "1     57\n",
            "dtype: int64\n",
            "BIC for the 1201th iteration: -3573.133056640625\n",
            "\n",
            "\n",
            "Membership sizes for the 1301th iteration:\n",
            "2    186\n",
            "1     84\n",
            "dtype: int64\n",
            "BIC for the 1301th iteration: -3719.359375\n",
            "\n",
            "\n",
            "Membership sizes for the 1401th iteration:\n",
            "2    160\n",
            "1    110\n",
            "dtype: int64\n",
            "BIC for the 1401th iteration: -3669.8330078125\n",
            "\n",
            "\n",
            "Membership sizes for the 1501th iteration:\n",
            "2    156\n",
            "1    114\n",
            "dtype: int64\n",
            "BIC for the 1501th iteration: -3672.135498046875\n",
            "\n",
            "\n",
            "Membership sizes for the 1601th iteration:\n",
            "1    159\n",
            "2    111\n",
            "dtype: int64\n",
            "BIC for the 1601th iteration: -3598.9541015625\n",
            "\n",
            "\n",
            "Membership sizes for the 1701th iteration:\n",
            "2    205\n",
            "1     65\n",
            "dtype: int64\n",
            "BIC for the 1701th iteration: -3721.7734375\n",
            "\n",
            "\n",
            "Membership sizes for the 1801th iteration:\n",
            "1    186\n",
            "2     84\n",
            "dtype: int64\n",
            "BIC for the 1801th iteration: -3725.21435546875\n",
            "\n",
            "\n",
            "Membership sizes for the 1901th iteration:\n",
            "1    178\n",
            "2     92\n",
            "dtype: int64\n",
            "BIC for the 1901th iteration: -3726.5087890625\n",
            "\n",
            "\n",
            "Membership sizes for the 2001th iteration:\n",
            "2    154\n",
            "1    116\n",
            "dtype: int64\n",
            "BIC for the 2001th iteration: -3942.53271484375\n",
            "\n",
            "\n",
            "Membership sizes for the 2101th iteration:\n",
            "2    157\n",
            "1    113\n",
            "dtype: int64\n",
            "BIC for the 2101th iteration: -4007.37158203125\n",
            "\n",
            "\n",
            "Membership sizes for the 2201th iteration:\n",
            "1    161\n",
            "2    109\n",
            "dtype: int64\n",
            "BIC for the 2201th iteration: -4032.82666015625\n",
            "\n",
            "\n",
            "Membership sizes for the 2301th iteration:\n",
            "1    163\n",
            "2    107\n",
            "dtype: int64\n",
            "BIC for the 2301th iteration: -4085.65673828125\n",
            "\n",
            "\n",
            "Membership sizes for the 2401th iteration:\n",
            "1    223\n",
            "2     47\n",
            "dtype: int64\n",
            "BIC for the 2401th iteration: -4033.541015625\n",
            "\n",
            "\n",
            "Membership sizes for the 2501th iteration:\n",
            "2    159\n",
            "1    111\n",
            "dtype: int64\n",
            "BIC for the 2501th iteration: -3935.8583984375\n",
            "\n",
            "\n",
            "Membership sizes for the 2601th iteration:\n",
            "1    156\n",
            "2    114\n",
            "dtype: int64\n",
            "BIC for the 2601th iteration: -4063.178466796875\n",
            "\n",
            "\n",
            "Membership sizes for the 2701th iteration:\n",
            "2    238\n",
            "1     32\n",
            "dtype: int64\n",
            "BIC for the 2701th iteration: -4141.041015625\n",
            "\n",
            "\n",
            "Membership sizes for the 2801th iteration:\n",
            "2    164\n",
            "1    106\n",
            "dtype: int64\n",
            "BIC for the 2801th iteration: -4200.529296875\n",
            "\n",
            "\n",
            "Membership sizes for the 2901th iteration:\n",
            "2    156\n",
            "1    114\n",
            "dtype: int64\n",
            "BIC for the 2901th iteration: -4189.8056640625\n",
            "\n",
            "\n",
            "Membership sizes for the 3001th iteration:\n",
            "2    165\n",
            "1    105\n",
            "dtype: int64\n",
            "BIC for the 3001th iteration: -4157.4833984375\n",
            "\n",
            "\n",
            "Membership sizes for the 3101th iteration:\n",
            "1    205\n",
            "2     65\n",
            "dtype: int64\n",
            "BIC for the 3101th iteration: -4264.25439453125\n",
            "\n",
            "\n",
            "Membership sizes for the 3201th iteration:\n",
            "2    200\n",
            "1     70\n",
            "dtype: int64\n",
            "BIC for the 3201th iteration: -4255.888671875\n",
            "\n",
            "\n",
            "Membership sizes for the 3301th iteration:\n",
            "2    198\n",
            "1     72\n",
            "dtype: int64\n",
            "BIC for the 3301th iteration: -4386.21826171875\n",
            "\n",
            "\n",
            "Membership sizes for the 3401th iteration:\n",
            "2    177\n",
            "1     93\n",
            "dtype: int64\n",
            "BIC for the 3401th iteration: -4530.166015625\n",
            "\n",
            "\n",
            "Membership sizes for the 3501th iteration:\n",
            "1    148\n",
            "2    122\n",
            "dtype: int64\n",
            "BIC for the 3501th iteration: -5164.8251953125\n",
            "\n",
            "\n",
            "Membership sizes for the 3601th iteration:\n",
            "1    156\n",
            "2    114\n",
            "dtype: int64\n",
            "BIC for the 3601th iteration: -6167.490234375\n",
            "\n",
            "\n",
            "Membership sizes for the 3701th iteration:\n",
            "2    161\n",
            "1    109\n",
            "dtype: int64\n",
            "BIC for the 3701th iteration: -6597.9765625\n",
            "\n",
            "\n",
            "Membership sizes for the 3801th iteration:\n",
            "1    159\n",
            "2    111\n",
            "dtype: int64\n",
            "BIC for the 3801th iteration: -8361.9296875\n",
            "\n",
            "\n",
            "Membership sizes for the 3901th iteration:\n",
            "2    161\n",
            "1    109\n",
            "dtype: int64\n",
            "BIC for the 3901th iteration: -9921.2294921875\n",
            "\n",
            "\n",
            "Membership sizes for the 4001th iteration:\n",
            "1    161\n",
            "2    109\n",
            "dtype: int64\n",
            "BIC for the 4001th iteration: -10914.2685546875\n",
            "\n",
            "\n",
            "Membership sizes for the 4101th iteration:\n",
            "1    158\n",
            "2    112\n",
            "dtype: int64\n",
            "BIC for the 4101th iteration: -11186.994140625\n",
            "\n",
            "\n",
            "Membership sizes for the 4201th iteration:\n",
            "2    163\n",
            "1    107\n",
            "dtype: int64\n",
            "BIC for the 4201th iteration: -11507.123046875\n",
            "\n",
            "\n",
            "Membership sizes for the 4301th iteration:\n",
            "1    159\n",
            "2    111\n",
            "dtype: int64\n",
            "BIC for the 4301th iteration: -12019.7890625\n",
            "\n",
            "\n",
            "Membership sizes for the 4401th iteration:\n",
            "2    159\n",
            "1    111\n",
            "dtype: int64\n",
            "BIC for the 4401th iteration: -12124.41796875\n",
            "\n",
            "\n",
            "Membership sizes for the 4501th iteration:\n",
            "2    161\n",
            "1    109\n",
            "dtype: int64\n",
            "BIC for the 4501th iteration: -12219.71875\n",
            "\n",
            "\n",
            "Membership sizes for the 4601th iteration:\n",
            "2    163\n",
            "1    107\n",
            "dtype: int64\n",
            "BIC for the 4601th iteration: -12310.59765625\n",
            "\n",
            "\n",
            "Membership sizes for the 4701th iteration:\n",
            "2    161\n",
            "1    109\n",
            "dtype: int64\n",
            "BIC for the 4701th iteration: -12768.20703125\n",
            "\n",
            "\n",
            "Membership sizes for the 4801th iteration:\n",
            "1    161\n",
            "2    109\n",
            "dtype: int64\n",
            "BIC for the 4801th iteration: -12873.40625\n",
            "\n",
            "\n",
            "Membership sizes for the 4901th iteration:\n",
            "1    163\n",
            "2    107\n",
            "dtype: int64\n",
            "BIC for the 4901th iteration: -13221.96875\n",
            "\n",
            "\n",
            "Membership sizes for the 5001th iteration:\n",
            "1    163\n",
            "2    107\n",
            "dtype: int64\n",
            "BIC for the 5001th iteration: -13493.08203125\n",
            "\n",
            "\n"
          ]
        },
        {
          "output_type": "execute_result",
          "data": {
            "text/plain": [
              "[Text(0.5, 1.0, 'Plot the dataset colored by the assigned labels of the fitted mixture model')]"
            ]
          },
          "metadata": {},
          "execution_count": 174
        },
        {
          "output_type": "display_data",
          "data": {
            "text/plain": [
              "<Figure size 432x288 with 1 Axes>"
            ],
            "image/png": "[encoded data removed]"
          },
          "metadata": {
            "needs_background": "light"
          }
        }
      ]
    },
    {
      "cell_type": "code",
      "source": [
        "# Check the true labels for gender.\n",
        "true_labels = df_2['GENDER'].value_counts()\n",
        "print(\"True gender labels:\")\n",
        "print(true_labels)"
      ],
      "metadata": {
        "colab": {
          "base_uri": "https://localhost:8080/"
        },
        "id": "nNdeaPW27r8o",
        "outputId": "e6aea0cb-5d9c-45e3-803f-a36dfaf32287"
      },
      "execution_count": 175,
      "outputs": [
        {
          "output_type": "stream",
          "name": "stdout",
          "text": [
            "True gender labels:\n",
            "F    151\n",
            "M    119\n",
            "Name: GENDER, dtype: int64\n"
          ]
        }
      ]
    },
    {
      "cell_type": "markdown",
      "source": [
        "## Comment\n",
        "The finite mixture model segments the population well in to in an unsupervised manner"
      ],
      "metadata": {
        "id": "yvXm8HxC6vQU"
      }
    },
    {
      "cell_type": "markdown",
      "source": [
        "### Classification Table\n",
        "Use the following function (`table_counts`) to create a classification table. \n",
        "Pass in the GENDER column as well as the output of the MAP labels, and comment on the ability of the Finite mixture model to correctly classify the sub-populations. \n"
      ],
      "metadata": {
        "id": "1ILJ6gDvlJMF"
      }
    },
    {
      "cell_type": "code",
      "source": [
        "def table_counts(x: np.array, y: np.array, labels=[\"x\",\"y\"]) -> None:\n",
        "  \"\"\"\n",
        "    Creates a classification table to visually assess misclassification. \n",
        "  \"\"\"\n",
        "\n",
        "  table_df = pd.DataFrame({labels[0]: x, labels[1]: y})\n",
        "  print(table_df.groupby(labels).size().unstack())\n",
        "\n",
        "# get the classification table. \n",
        "gender = df_2[\"GENDER\"].to_numpy()\n",
        "MAP_labels = data_s['label'].to_numpy()\n",
        "table_counts(gender, MAP_labels)\n",
        "# comment on the performance of the finite mixture model. "
      ],
      "metadata": {
        "id": "0iX35XErtvfh",
        "colab": {
          "base_uri": "https://localhost:8080/"
        },
        "outputId": "afa6dadf-4361-43a3-96a2-948d792e870d"
      },
      "execution_count": 176,
      "outputs": [
        {
          "output_type": "stream",
          "name": "stdout",
          "text": [
            "y      F      M\n",
            "x              \n",
            "F  151.0    NaN\n",
            "M   12.0  107.0\n"
          ]
        }
      ]
    },
    {
      "cell_type": "markdown",
      "source": [
        "## Comment\n",
        "True Positive (TP) = 151\n",
        "\n",
        "True Negative (TN) = 107\n",
        "\n",
        "False Positive (FP) = 12\n",
        "\n",
        "Accuracy = (TP+TN)/Total= (151+107)/270 = 95.56%\n",
        "\n",
        "Precision = TP/(TP+FP) = 151/(151+12) = 92.64%\n",
        "\n",
        "Thus, the performance of the finite mixture model is very good!\n"
      ],
      "metadata": {
        "id": "3Vr9bR3XIP-0"
      }
    }
  ]
}